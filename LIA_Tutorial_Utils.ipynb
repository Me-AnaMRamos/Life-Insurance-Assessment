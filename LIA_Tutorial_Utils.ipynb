{
 "cells": [
  {
   "cell_type": "code",
   "execution_count": 10,
   "id": "9bf27fd1",
   "metadata": {},
   "outputs": [
    {
     "name": "stdout",
     "output_type": "stream",
     "text": [
      "TensorFlow version: 2.13.0\n"
     ]
    }
   ],
   "source": [
    "import nbimporter\n",
    "import LIA_Tutorial_Utils\n",
    "import io\n",
    "import sys\n",
    "import math\n",
    "import numpy as np # linear algebra\n",
    "import pandas as pd # data processing, CSV file I/O (e.g. pd.read_csv)\n",
    "import matplotlib.pyplot as plt # graphs/plotting\n",
    "import seaborn as sns\n",
    "import tensorflow as tf\n",
    "from tensorflow import keras\n",
    "import keras_tuner as kt\n",
    "from sklearn.preprocessing import LabelEncoder\n",
    "from scikitplot.metrics import plot_roc, plot_confusion_matrix\n",
    "from sklearn.metrics import classification_report, balanced_accuracy_score\n",
    "from sklearn.isotonic import IsotonicRegression\n",
    "from sklearn.metrics import log_loss\n",
    "print(\"TensorFlow version:\", tf.__version__)"
   ]
  },
  {
   "cell_type": "code",
   "execution_count": 28,
   "id": "c7d567f4",
   "metadata": {},
   "outputs": [],
   "source": [
    "def load_data():\n",
    "    \n",
    "    x_train = pd.read_csv('Data_sets\\X_train_preprocessed.csv')\n",
    "    x_valid = pd.read_csv('Data_sets\\X_valid_preprocessed.csv')\n",
    "    x_test = pd.read_csv('Data_sets\\X_test_preprocessed.csv')\n",
    "    y_train = pd.read_csv('Data_sets\\Y_train.csv')\n",
    "    y_valid = pd.read_csv('Data_sets\\Y_valid.csv')\n",
    "    y_test = pd.read_csv('Data_sets\\Y_test.csv')\n",
    "    x_train = x_train.set_index('Id')\n",
    "    x_valid = x_valid.set_index('Id')\n",
    "    x_test = x_test.set_index('Id')\n",
    "    y_train = y_train.set_index('Id')\n",
    "    y_valid = y_valid.set_index('Id')\n",
    "    y_test = y_test.set_index('Id')\n",
    "    x_full=pd.concat([x_train, x_valid, x_test])\n",
    "    y_full=pd.concat([y_train, y_valid, y_test])\n",
    "    x_full=x_full.sort_index()\n",
    "    y_full=y_full.sort_index()\n",
    "    # Convert from pandas to numpy\n",
    "    x_train=x_train.to_numpy().astype('float32')\n",
    "    x_valid=x_valid.to_numpy().astype('float32')\n",
    "    x_test=x_test.to_numpy().astype('float32')\n",
    "\n",
    "    \n",
    "    return x_full, y_full, x_train, x_valid, x_test, y_train, y_valid, y_test"
   ]
  },
  {
   "cell_type": "code",
   "execution_count": 29,
   "id": "1246b561",
   "metadata": {},
   "outputs": [],
   "source": [
    "def evaluate_first_tuner(search_space_summary):    \n",
    "    expected_search_space = \"\"\"\n",
    "Search space summary\n",
    "Default search space size: 4\n",
    "hidden_layers (Int)\n",
    "{'default': None, 'conditions': [], 'min_value': 1, 'max_value': 5, 'step': 1, 'sampling': 'linear'}\n",
    "activations (Choice)\n",
    "{'default': 'relu', 'conditions': [], 'values': ['relu', 'sigmoid', 'tanh'], 'ordered': False}\n",
    "learning_rate (Float)\n",
    "{'default': 0.0001, 'conditions': [], 'min_value': 0.0001, 'max_value': 0.01, 'step': None, 'sampling': 'linear'}\n",
    "units_1 (Int)\n",
    "{'default': None, 'conditions': [], 'min_value': 15, 'max_value': 120, 'step': 5, 'sampling': 'linear'}    \n",
    "    \"\"\"\n",
    "    \n",
    "    # Compare the generated search space summary with the expected search space\n",
    "    if search_space_summary.strip() == expected_search_space.strip():\n",
    "        print_value = search_space_summary + \"\\nSearch space matches expected.\"\n",
    "        print(\"\\033[92m\"+print_value)\n",
    "    else:\n",
    "        print_value= search_space_summary + \"\\n\\nSearch space does not match expected. Please review.\"\n",
    "        print(\"\\033[91m\"+print_value)\n",
    "    "
   ]
  },
  {
   "cell_type": "code",
   "execution_count": 30,
   "id": "06f0ed2f",
   "metadata": {},
   "outputs": [],
   "source": [
    "def evaluate_final_tuner_1(search_space_summary):    \n",
    "    expected_search_space = \"\"\"\n",
    "Search space summary\n",
    "Default search space size: 2\n",
    "learning_rate (Float)\n",
    "{'default': 0.0001, 'conditions': [], 'min_value': 0.0001, 'max_value': 0.01, 'step': None, 'sampling': 'log'}\n",
    "batch_size (Choice)\n",
    "{'default': 16, 'conditions': [], 'values': [16, 32, 64, 128, 256, 512], 'ordered': True}\n",
    "\"\"\"\n",
    "    \n",
    "    # Compare the generated search space summary with the expected search space\n",
    "    if search_space_summary.strip() == expected_search_space.strip():\n",
    "        print_value = search_space_summary + \"\\nSearch space matches expected.\"\n",
    "        print(\"\\033[92m\"+print_value)\n",
    "\n",
    "    else:\n",
    "        print_value= search_space_summary + \"\\n\\nSearch space does not match expected. Please review.\\n\"\n",
    "        print(\"\\033[91m\"+print_value)\n",
    "    "
   ]
  },
  {
   "cell_type": "code",
   "execution_count": 24,
   "id": "51e4c4be",
   "metadata": {},
   "outputs": [],
   "source": [
    "def evaluate_final_tuner_2(search_space_summary, best_lr, best_bs):   \n",
    "    expected_search_space = \"\"\"\n",
    "Search space summary\n",
    "Default search space size: 4\n",
    "learning_rate (Fixed)\n",
    "{'conditions': [], 'value': \"\"\"+ str(best_lr)+\"\"\"}\n",
    "batch_size (Fixed)\n",
    "{'conditions': [], 'value': \"\"\"+ str(best_bs)+\"\"\"}\n",
    "hidden_layers (Int)\n",
    "{'default': 1, 'conditions': [], 'min_value': 1, 'max_value': 5, 'step': 1, 'sampling': 'linear'}\n",
    "units_1 (Int)\n",
    "{'default': 21, 'conditions': [], 'min_value': 15, 'max_value': 120, 'step': 5, 'sampling': 'linear'}\n",
    "\"\"\"\n",
    "    \n",
    "    # Compare the generated search space summary with the expected search space\n",
    "    if search_space_summary.strip() == expected_search_space.strip():\n",
    "        print_value = search_space_summary + \"\\nSearch space matches expected.\"\n",
    "        print(\"\\033[92m\"+print_value)\n",
    "\n",
    "    else:\n",
    "        print_value= search_space_summary + \"\\n\\nSearch space does not match expected. Please review.\\n\"+ expected_search_space\n",
    "        print(\"\\033[91m\"+print_value)\n",
    "    "
   ]
  }
 ],
 "metadata": {
  "kernelspec": {
   "display_name": "Python 3 (ipykernel)",
   "language": "python",
   "name": "python3"
  },
  "language_info": {
   "codemirror_mode": {
    "name": "ipython",
    "version": 3
   },
   "file_extension": ".py",
   "mimetype": "text/x-python",
   "name": "python",
   "nbconvert_exporter": "python",
   "pygments_lexer": "ipython3",
   "version": "3.11.5"
  }
 },
 "nbformat": 4,
 "nbformat_minor": 5
}
