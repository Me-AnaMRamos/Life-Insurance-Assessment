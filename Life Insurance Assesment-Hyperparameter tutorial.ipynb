{
 "cells": [
  {
   "cell_type": "markdown",
   "id": "a0615bae",
   "metadata": {},
   "source": [
    "# Building and Hyperparameter Tuning of Multilayer Perceptron for Risk Assesment\n",
    "### By: Ana María Ramos. \n",
    "### Advisor: Arles Rodríguez.\n",
    "\n",
    "\n",
    "In this notebook, we'll explore the process of building a Multilayer Perceptron (MLP), a type of Feed Forward Neural Network which generalizes a Perceptron to a model with at least one hidden layer, and apply it to predict risk ratings for life insurance applicants. To accomplish this, we'll utilize the TF Keras Sequential API for constructing the risk classifier, and leverage the TF KerasTuner API for efficient hyperparameter tuning of the model.\n",
    "\n",
    "The dataset we'll work with was initially released for a Kaggle competition sponsored by the Prudential Financial company [[1]](#R-1). It encompasses more than a hundred variables describing various attributes of life insurance applicants. Our objective is to predict the \"Response\" variable for each applicant in the test set. \"Response\" represents an ordinal measure of risk categorized into 8 levels.\n",
    "\n",
    "\n",
    "**By the end of this lab, you'll be able to:**\n",
    "\n",
    "- Construct and train a Multilayer Perceptron Neural Network in Keras TensorFlow for a multiclass classification problem.\n",
    "- Perform hyperparameter tuning of your Keras Neural Network models through disctinct automated techniques such as Grid Search, Random Search, and Hyperband.\n",
    "- Utilize customized metrics for the hyperparameter tuning process.\n",
    "- Familiarize yourself with the Quadratic Weighted Kappa metric tailored for ordinal classification tasks and integrate it into your projects.\n",
    "- Apply your knowledge of neural network models and projects to address a range of actuarial and financial tasks related to risk classification."
   ]
  },
  {
   "cell_type": "markdown",
   "id": "1f3cd626",
   "metadata": {},
   "source": [
    "## Table of Content\n",
    "\n",
    "- [1 - Packages](#1)\n",
    "- [2 - Load and Explore the Data](#2)\n",
    "- [3 - Build model and tune hyperparamters](#3)\n",
    "    - [3.1 - Build the Model and Define the Hyperparameters](#3-1)\n",
    "        - [3.1.1 - Special case for mini-batch size tuning](#3-1-1)\n",
    "        - [Exercise 1 - Defining Hyperparameters within the Model](#ex-1)\n",
    "    - [3.2 - Search for the Best Hyperparameters](#3-2)\n",
    "        - [Exercise 2 - Search for the Best Hyperparameters](#ex-2)\n",
    "- [4 - Expanded Keras Tuner Features](#4)\n",
    "    - [4.1 - Use Custom Metrics](#4-1)\n",
    "    - [4.2 - Tailor the Search Space](#4-2)\n",
    "    - [Exercise 3 - Prioritized Hyperparameter Tuning with Custom Metric](#ex-3)\n",
    "- [5 - Fit and Evaluate Tuned Model](#5)\n",
    "    - [Exercise 4 - Fit and Predict with Tuned Model](#ex-4)\n",
    "    - [5.1 - See Tuned Model Perfomance](#ex-3)\n",
    "- [6 - Bibliography](#6)\n",
    "\n",
    "<a name='1'></a>\n",
    "## 1 - Packages\n",
    "\n",
    "Let's start by importing all the necessary libraries for building our neural network model, tuning the hyperparameters, and evaluating the model's performance."
   ]
  },
  {
   "cell_type": "code",
   "execution_count": 1,
   "id": "7b7fbbee",
   "metadata": {},
   "outputs": [
    {
     "name": "stdout",
     "output_type": "stream",
     "text": [
      "TensorFlow version: 2.13.0\n"
     ]
    }
   ],
   "source": [
    "#import sys\n",
    "import math\n",
    "import numpy as np # linear algebra\n",
    "import pandas as pd # data processing, CSV file I/O (e.g. pd.read_csv)\n",
    "import matplotlib.pyplot as plt # graphs/plotting\n",
    "import seaborn as sns\n",
    "import tensorflow as tf\n",
    "import keras_tuner as kt\n",
    "from tensorflow import keras\n",
    "from tensorflow.keras.callbacks import EarlyStopping\n",
    "from sklearn.preprocessing import LabelEncoder\n",
    "from scikitplot.metrics import plot_roc, plot_confusion_matrix\n",
    "from sklearn.metrics import classification_report, balanced_accuracy_score\n",
    "from sklearn.isotonic import IsotonicRegression\n",
    "from sklearn.metrics import log_loss\n",
    "print(\"TensorFlow version:\", tf.__version__)"
   ]
  },
  {
   "cell_type": "markdown",
   "id": "4ef0ffef",
   "metadata": {},
   "source": [
    "<a name='2'></a>\n",
    "## 2 - Load and Explore the Data\n",
    "\n",
    "Execute the cells below in order to load and generate a summary of the data."
   ]
  },
  {
   "cell_type": "code",
   "execution_count": 2,
   "id": "2e95f612",
   "metadata": {},
   "outputs": [],
   "source": [
    "def load_data():\n",
    "    \n",
    "    x_train = pd.read_csv('X_train_preprocessed.csv')\n",
    "    x_valid = pd.read_csv('X_valid_preprocessed.csv')\n",
    "    x_test = pd.read_csv('X_test_preprocessed.csv')\n",
    "    y_train = pd.read_csv('Y_train.csv')\n",
    "    y_valid = pd.read_csv('Y_valid.csv')\n",
    "    y_test = pd.read_csv('Y_test.csv')\n",
    "    x_train = x_train.set_index('Id')\n",
    "    x_valid = x_valid.set_index('Id')\n",
    "    x_test = x_test.set_index('Id')\n",
    "    y_train = y_train.set_index('Id')\n",
    "    y_valid = y_valid.set_index('Id')\n",
    "    y_test = y_test.set_index('Id')\n",
    "    x_full=pd.concat([x_train, x_valid, x_test])\n",
    "    y_full=pd.concat([y_train, y_valid, y_test])\n",
    "    x_full=x_full.sort_index()\n",
    "    y_full=y_full.sort_index()\n",
    "    # Convert from pandas to numpy\n",
    "    x_train=x_train.to_numpy().astype('float32')\n",
    "    x_valid=x_valid.to_numpy().astype('float32')\n",
    "    x_test=x_test.to_numpy().astype('float32')\n",
    "\n",
    "    \n",
    "    return x_full, y_full, x_train, x_valid, x_test, y_train, y_valid, y_test"
   ]
  },
  {
   "cell_type": "code",
   "execution_count": 3,
   "id": "77be00b1",
   "metadata": {},
   "outputs": [],
   "source": [
    "# Load the data\n",
    "x_full, y_full, x_train, x_valid, x_test, y_train, y_valid, y_test= load_data()"
   ]
  },
  {
   "cell_type": "code",
   "execution_count": 4,
   "id": "ca443b4d",
   "metadata": {
    "scrolled": true
   },
   "outputs": [
    {
     "name": "stdout",
     "output_type": "stream",
     "text": [
      "Data Set Features Description\n",
      "------------------------------\n",
      " Product_Info_4         float64\n",
      "Product_Info_6         float64\n",
      "Ins_Age                float64\n",
      "BMI                    float64\n",
      "Employment_Info_3      float64\n",
      "Employment_Info_5      float64\n",
      "InsuredInfo_4          float64\n",
      "InsuredInfo_5          float64\n",
      "InsuredInfo_6          float64\n",
      "InsuredInfo_7          float64\n",
      "Insurance_History_1    float64\n",
      "Insurance_History_2    float64\n",
      "Insurance_History_3    float64\n",
      "Insurance_History_4    float64\n",
      "Insurance_History_9    float64\n",
      "Family_Hist_1          float64\n",
      "Medical_History_3      float64\n",
      "Medical_History_4      float64\n",
      "Medical_History_6      float64\n",
      "Medical_History_11     float64\n",
      "Medical_History_13     float64\n",
      "Medical_History_14     float64\n",
      "Medical_History_16     float64\n",
      "Medical_History_17     float64\n",
      "Medical_History_20     float64\n",
      "Medical_History_22     float64\n",
      "Medical_History_23     float64\n",
      "Medical_History_26     float64\n",
      "Medical_History_27     float64\n",
      "Medical_History_28     float64\n",
      "Medical_History_29     float64\n",
      "Medical_History_30     float64\n",
      "Medical_History_31     float64\n",
      "Medical_History_33     float64\n",
      "Medical_History_34     float64\n",
      "Medical_History_39     float64\n",
      "Medical_History_40     float64\n",
      "Medical_History_41     float64\n",
      "Medical_Keyword_3      float64\n",
      "Medical_Keyword_15     float64\n",
      "Medical_Keyword_23     float64\n",
      "Medical_Keyword_30     float64\n",
      "Medical_Keyword_37     float64\n",
      "Medical_Keyword_40     float64\n",
      "Medical_Keyword_48     float64\n",
      "Product_Info_2_A6      float64\n",
      "Product_Info_2_A7      float64\n",
      "Product_Info_2_A8      float64\n",
      "Product_Info_2_D1      float64\n",
      "Product_Info_2_D2      float64\n",
      "Product_Info_2_D3      float64\n",
      "Product_Info_2_D4      float64\n",
      "Product_Info_2_E1      float64\n",
      "KMeansCluster_4         object\n",
      "KMeansCluster_5         object\n",
      "KMeansCluster_11        object\n",
      "KMeansCluster_13        object\n",
      "dtype: object\n"
     ]
    },
    {
     "data": {
      "text/html": [
       "<div>\n",
       "<style scoped>\n",
       "    .dataframe tbody tr th:only-of-type {\n",
       "        vertical-align: middle;\n",
       "    }\n",
       "\n",
       "    .dataframe tbody tr th {\n",
       "        vertical-align: top;\n",
       "    }\n",
       "\n",
       "    .dataframe thead th {\n",
       "        text-align: right;\n",
       "    }\n",
       "</style>\n",
       "<table border=\"1\" class=\"dataframe\">\n",
       "  <thead>\n",
       "    <tr style=\"text-align: right;\">\n",
       "      <th></th>\n",
       "      <th>Product_Info_4</th>\n",
       "      <th>Product_Info_6</th>\n",
       "      <th>Ins_Age</th>\n",
       "      <th>BMI</th>\n",
       "      <th>Employment_Info_3</th>\n",
       "      <th>Employment_Info_5</th>\n",
       "      <th>InsuredInfo_4</th>\n",
       "      <th>InsuredInfo_5</th>\n",
       "      <th>InsuredInfo_6</th>\n",
       "      <th>InsuredInfo_7</th>\n",
       "      <th>...</th>\n",
       "      <th>Medical_Keyword_40</th>\n",
       "      <th>Medical_Keyword_48</th>\n",
       "      <th>Product_Info_2_A6</th>\n",
       "      <th>Product_Info_2_A7</th>\n",
       "      <th>Product_Info_2_A8</th>\n",
       "      <th>Product_Info_2_D1</th>\n",
       "      <th>Product_Info_2_D2</th>\n",
       "      <th>Product_Info_2_D3</th>\n",
       "      <th>Product_Info_2_D4</th>\n",
       "      <th>Product_Info_2_E1</th>\n",
       "    </tr>\n",
       "  </thead>\n",
       "  <tbody>\n",
       "    <tr>\n",
       "      <th>count</th>\n",
       "      <td>59381.000000</td>\n",
       "      <td>59381.000000</td>\n",
       "      <td>59381.000000</td>\n",
       "      <td>59381.000000</td>\n",
       "      <td>59381.000000</td>\n",
       "      <td>59381.000000</td>\n",
       "      <td>59381.000000</td>\n",
       "      <td>59381.000000</td>\n",
       "      <td>59381.000000</td>\n",
       "      <td>59381.000000</td>\n",
       "      <td>...</td>\n",
       "      <td>59381.000000</td>\n",
       "      <td>59381.000000</td>\n",
       "      <td>59381.000000</td>\n",
       "      <td>59381.000000</td>\n",
       "      <td>59381.000000</td>\n",
       "      <td>59381.000000</td>\n",
       "      <td>59381.000000</td>\n",
       "      <td>59381.000000</td>\n",
       "      <td>59381.000000</td>\n",
       "      <td>59381.000000</td>\n",
       "    </tr>\n",
       "    <tr>\n",
       "      <th>mean</th>\n",
       "      <td>0.328952</td>\n",
       "      <td>0.836800</td>\n",
       "      <td>0.405567</td>\n",
       "      <td>0.436295</td>\n",
       "      <td>0.150452</td>\n",
       "      <td>0.142958</td>\n",
       "      <td>0.883666</td>\n",
       "      <td>0.013590</td>\n",
       "      <td>0.409188</td>\n",
       "      <td>0.019265</td>\n",
       "      <td>...</td>\n",
       "      <td>0.056954</td>\n",
       "      <td>0.054496</td>\n",
       "      <td>0.035331</td>\n",
       "      <td>0.023290</td>\n",
       "      <td>0.115104</td>\n",
       "      <td>0.110372</td>\n",
       "      <td>0.105859</td>\n",
       "      <td>0.241171</td>\n",
       "      <td>0.182078</td>\n",
       "      <td>0.044577</td>\n",
       "    </tr>\n",
       "    <tr>\n",
       "      <th>std</th>\n",
       "      <td>0.282562</td>\n",
       "      <td>0.369551</td>\n",
       "      <td>0.197190</td>\n",
       "      <td>0.129853</td>\n",
       "      <td>0.357517</td>\n",
       "      <td>0.350033</td>\n",
       "      <td>0.320627</td>\n",
       "      <td>0.115783</td>\n",
       "      <td>0.491688</td>\n",
       "      <td>0.137458</td>\n",
       "      <td>...</td>\n",
       "      <td>0.231757</td>\n",
       "      <td>0.226995</td>\n",
       "      <td>0.184617</td>\n",
       "      <td>0.150825</td>\n",
       "      <td>0.319150</td>\n",
       "      <td>0.313356</td>\n",
       "      <td>0.307659</td>\n",
       "      <td>0.427798</td>\n",
       "      <td>0.385912</td>\n",
       "      <td>0.206374</td>\n",
       "    </tr>\n",
       "    <tr>\n",
       "      <th>min</th>\n",
       "      <td>0.000000</td>\n",
       "      <td>0.000000</td>\n",
       "      <td>0.000000</td>\n",
       "      <td>-0.062516</td>\n",
       "      <td>0.000000</td>\n",
       "      <td>0.000000</td>\n",
       "      <td>0.000000</td>\n",
       "      <td>0.000000</td>\n",
       "      <td>0.000000</td>\n",
       "      <td>0.000000</td>\n",
       "      <td>...</td>\n",
       "      <td>0.000000</td>\n",
       "      <td>0.000000</td>\n",
       "      <td>0.000000</td>\n",
       "      <td>0.000000</td>\n",
       "      <td>0.000000</td>\n",
       "      <td>0.000000</td>\n",
       "      <td>0.000000</td>\n",
       "      <td>0.000000</td>\n",
       "      <td>0.000000</td>\n",
       "      <td>0.000000</td>\n",
       "    </tr>\n",
       "    <tr>\n",
       "      <th>25%</th>\n",
       "      <td>0.076923</td>\n",
       "      <td>1.000000</td>\n",
       "      <td>0.238806</td>\n",
       "      <td>0.347102</td>\n",
       "      <td>0.000000</td>\n",
       "      <td>0.000000</td>\n",
       "      <td>1.000000</td>\n",
       "      <td>0.000000</td>\n",
       "      <td>0.000000</td>\n",
       "      <td>0.000000</td>\n",
       "      <td>...</td>\n",
       "      <td>0.000000</td>\n",
       "      <td>0.000000</td>\n",
       "      <td>0.000000</td>\n",
       "      <td>0.000000</td>\n",
       "      <td>0.000000</td>\n",
       "      <td>0.000000</td>\n",
       "      <td>0.000000</td>\n",
       "      <td>0.000000</td>\n",
       "      <td>0.000000</td>\n",
       "      <td>0.000000</td>\n",
       "    </tr>\n",
       "    <tr>\n",
       "      <th>50%</th>\n",
       "      <td>0.230769</td>\n",
       "      <td>1.000000</td>\n",
       "      <td>0.402985</td>\n",
       "      <td>0.417050</td>\n",
       "      <td>0.000000</td>\n",
       "      <td>0.000000</td>\n",
       "      <td>1.000000</td>\n",
       "      <td>0.000000</td>\n",
       "      <td>0.000000</td>\n",
       "      <td>0.000000</td>\n",
       "      <td>...</td>\n",
       "      <td>0.000000</td>\n",
       "      <td>0.000000</td>\n",
       "      <td>0.000000</td>\n",
       "      <td>0.000000</td>\n",
       "      <td>0.000000</td>\n",
       "      <td>0.000000</td>\n",
       "      <td>0.000000</td>\n",
       "      <td>0.000000</td>\n",
       "      <td>0.000000</td>\n",
       "      <td>0.000000</td>\n",
       "    </tr>\n",
       "    <tr>\n",
       "      <th>75%</th>\n",
       "      <td>0.487179</td>\n",
       "      <td>1.000000</td>\n",
       "      <td>0.567164</td>\n",
       "      <td>0.503654</td>\n",
       "      <td>0.000000</td>\n",
       "      <td>0.000000</td>\n",
       "      <td>1.000000</td>\n",
       "      <td>0.000000</td>\n",
       "      <td>1.000000</td>\n",
       "      <td>0.000000</td>\n",
       "      <td>...</td>\n",
       "      <td>0.000000</td>\n",
       "      <td>0.000000</td>\n",
       "      <td>0.000000</td>\n",
       "      <td>0.000000</td>\n",
       "      <td>0.000000</td>\n",
       "      <td>0.000000</td>\n",
       "      <td>0.000000</td>\n",
       "      <td>0.000000</td>\n",
       "      <td>0.000000</td>\n",
       "      <td>0.000000</td>\n",
       "    </tr>\n",
       "    <tr>\n",
       "      <th>max</th>\n",
       "      <td>1.000000</td>\n",
       "      <td>1.000000</td>\n",
       "      <td>1.000000</td>\n",
       "      <td>1.000000</td>\n",
       "      <td>1.000000</td>\n",
       "      <td>1.000000</td>\n",
       "      <td>1.000000</td>\n",
       "      <td>1.000000</td>\n",
       "      <td>1.000000</td>\n",
       "      <td>1.000000</td>\n",
       "      <td>...</td>\n",
       "      <td>1.000000</td>\n",
       "      <td>1.000000</td>\n",
       "      <td>1.000000</td>\n",
       "      <td>1.000000</td>\n",
       "      <td>1.000000</td>\n",
       "      <td>1.000000</td>\n",
       "      <td>1.000000</td>\n",
       "      <td>1.000000</td>\n",
       "      <td>1.000000</td>\n",
       "      <td>1.000000</td>\n",
       "    </tr>\n",
       "  </tbody>\n",
       "</table>\n",
       "<p>8 rows × 53 columns</p>\n",
       "</div>"
      ],
      "text/plain": [
       "       Product_Info_4  Product_Info_6       Ins_Age           BMI  \\\n",
       "count    59381.000000    59381.000000  59381.000000  59381.000000   \n",
       "mean         0.328952        0.836800      0.405567      0.436295   \n",
       "std          0.282562        0.369551      0.197190      0.129853   \n",
       "min          0.000000        0.000000      0.000000     -0.062516   \n",
       "25%          0.076923        1.000000      0.238806      0.347102   \n",
       "50%          0.230769        1.000000      0.402985      0.417050   \n",
       "75%          0.487179        1.000000      0.567164      0.503654   \n",
       "max          1.000000        1.000000      1.000000      1.000000   \n",
       "\n",
       "       Employment_Info_3  Employment_Info_5  InsuredInfo_4  InsuredInfo_5  \\\n",
       "count       59381.000000       59381.000000   59381.000000   59381.000000   \n",
       "mean            0.150452           0.142958       0.883666       0.013590   \n",
       "std             0.357517           0.350033       0.320627       0.115783   \n",
       "min             0.000000           0.000000       0.000000       0.000000   \n",
       "25%             0.000000           0.000000       1.000000       0.000000   \n",
       "50%             0.000000           0.000000       1.000000       0.000000   \n",
       "75%             0.000000           0.000000       1.000000       0.000000   \n",
       "max             1.000000           1.000000       1.000000       1.000000   \n",
       "\n",
       "       InsuredInfo_6  InsuredInfo_7  ...  Medical_Keyword_40  \\\n",
       "count   59381.000000   59381.000000  ...        59381.000000   \n",
       "mean        0.409188       0.019265  ...            0.056954   \n",
       "std         0.491688       0.137458  ...            0.231757   \n",
       "min         0.000000       0.000000  ...            0.000000   \n",
       "25%         0.000000       0.000000  ...            0.000000   \n",
       "50%         0.000000       0.000000  ...            0.000000   \n",
       "75%         1.000000       0.000000  ...            0.000000   \n",
       "max         1.000000       1.000000  ...            1.000000   \n",
       "\n",
       "       Medical_Keyword_48  Product_Info_2_A6  Product_Info_2_A7  \\\n",
       "count        59381.000000       59381.000000       59381.000000   \n",
       "mean             0.054496           0.035331           0.023290   \n",
       "std              0.226995           0.184617           0.150825   \n",
       "min              0.000000           0.000000           0.000000   \n",
       "25%              0.000000           0.000000           0.000000   \n",
       "50%              0.000000           0.000000           0.000000   \n",
       "75%              0.000000           0.000000           0.000000   \n",
       "max              1.000000           1.000000           1.000000   \n",
       "\n",
       "       Product_Info_2_A8  Product_Info_2_D1  Product_Info_2_D2  \\\n",
       "count       59381.000000       59381.000000       59381.000000   \n",
       "mean            0.115104           0.110372           0.105859   \n",
       "std             0.319150           0.313356           0.307659   \n",
       "min             0.000000           0.000000           0.000000   \n",
       "25%             0.000000           0.000000           0.000000   \n",
       "50%             0.000000           0.000000           0.000000   \n",
       "75%             0.000000           0.000000           0.000000   \n",
       "max             1.000000           1.000000           1.000000   \n",
       "\n",
       "       Product_Info_2_D3  Product_Info_2_D4  Product_Info_2_E1  \n",
       "count       59381.000000       59381.000000       59381.000000  \n",
       "mean            0.241171           0.182078           0.044577  \n",
       "std             0.427798           0.385912           0.206374  \n",
       "min             0.000000           0.000000           0.000000  \n",
       "25%             0.000000           0.000000           0.000000  \n",
       "50%             0.000000           0.000000           0.000000  \n",
       "75%             0.000000           0.000000           0.000000  \n",
       "max             1.000000           1.000000           1.000000  \n",
       "\n",
       "[8 rows x 53 columns]"
      ]
     },
     "execution_count": 4,
     "metadata": {},
     "output_type": "execute_result"
    }
   ],
   "source": [
    "# Review the main characteristics of the dataset features\n",
    "print(\"Data Set Features Description\\n------------------------------\\n\", x_full.dtypes)\n",
    "x_full.describe()"
   ]
  },
  {
   "cell_type": "code",
   "execution_count": 5,
   "id": "128efdbf",
   "metadata": {},
   "outputs": [
    {
     "data": {
      "text/html": [
       "<div>\n",
       "<style scoped>\n",
       "    .dataframe tbody tr th:only-of-type {\n",
       "        vertical-align: middle;\n",
       "    }\n",
       "\n",
       "    .dataframe tbody tr th {\n",
       "        vertical-align: top;\n",
       "    }\n",
       "\n",
       "    .dataframe thead th {\n",
       "        text-align: right;\n",
       "    }\n",
       "</style>\n",
       "<table border=\"1\" class=\"dataframe\">\n",
       "  <thead>\n",
       "    <tr style=\"text-align: right;\">\n",
       "      <th></th>\n",
       "      <th>Product_Info_4</th>\n",
       "      <th>Product_Info_6</th>\n",
       "      <th>Ins_Age</th>\n",
       "      <th>BMI</th>\n",
       "      <th>Employment_Info_3</th>\n",
       "      <th>Employment_Info_5</th>\n",
       "      <th>InsuredInfo_4</th>\n",
       "      <th>InsuredInfo_5</th>\n",
       "      <th>InsuredInfo_6</th>\n",
       "      <th>InsuredInfo_7</th>\n",
       "      <th>...</th>\n",
       "      <th>Product_Info_2_A8</th>\n",
       "      <th>Product_Info_2_D1</th>\n",
       "      <th>Product_Info_2_D2</th>\n",
       "      <th>Product_Info_2_D3</th>\n",
       "      <th>Product_Info_2_D4</th>\n",
       "      <th>Product_Info_2_E1</th>\n",
       "      <th>KMeansCluster_4</th>\n",
       "      <th>KMeansCluster_5</th>\n",
       "      <th>KMeansCluster_11</th>\n",
       "      <th>KMeansCluster_13</th>\n",
       "    </tr>\n",
       "    <tr>\n",
       "      <th>Id</th>\n",
       "      <th></th>\n",
       "      <th></th>\n",
       "      <th></th>\n",
       "      <th></th>\n",
       "      <th></th>\n",
       "      <th></th>\n",
       "      <th></th>\n",
       "      <th></th>\n",
       "      <th></th>\n",
       "      <th></th>\n",
       "      <th></th>\n",
       "      <th></th>\n",
       "      <th></th>\n",
       "      <th></th>\n",
       "      <th></th>\n",
       "      <th></th>\n",
       "      <th></th>\n",
       "      <th></th>\n",
       "      <th></th>\n",
       "      <th></th>\n",
       "      <th></th>\n",
       "    </tr>\n",
       "  </thead>\n",
       "  <tbody>\n",
       "    <tr>\n",
       "      <th>2</th>\n",
       "      <td>0.076923</td>\n",
       "      <td>0.0</td>\n",
       "      <td>0.641791</td>\n",
       "      <td>0.280685</td>\n",
       "      <td>0.0</td>\n",
       "      <td>1.0</td>\n",
       "      <td>1.0</td>\n",
       "      <td>0.0</td>\n",
       "      <td>1.0</td>\n",
       "      <td>0.0</td>\n",
       "      <td>...</td>\n",
       "      <td>0.0</td>\n",
       "      <td>0.0</td>\n",
       "      <td>0.0</td>\n",
       "      <td>1.0</td>\n",
       "      <td>0.0</td>\n",
       "      <td>0.0</td>\n",
       "      <td>False</td>\n",
       "      <td>False</td>\n",
       "      <td>False</td>\n",
       "      <td>False</td>\n",
       "    </tr>\n",
       "    <tr>\n",
       "      <th>5</th>\n",
       "      <td>0.076923</td>\n",
       "      <td>1.0</td>\n",
       "      <td>0.059701</td>\n",
       "      <td>0.226794</td>\n",
       "      <td>1.0</td>\n",
       "      <td>0.0</td>\n",
       "      <td>1.0</td>\n",
       "      <td>0.0</td>\n",
       "      <td>1.0</td>\n",
       "      <td>0.0</td>\n",
       "      <td>...</td>\n",
       "      <td>0.0</td>\n",
       "      <td>0.0</td>\n",
       "      <td>0.0</td>\n",
       "      <td>0.0</td>\n",
       "      <td>0.0</td>\n",
       "      <td>0.0</td>\n",
       "      <td>False</td>\n",
       "      <td>False</td>\n",
       "      <td>False</td>\n",
       "      <td>False</td>\n",
       "    </tr>\n",
       "    <tr>\n",
       "      <th>6</th>\n",
       "      <td>0.076923</td>\n",
       "      <td>1.0</td>\n",
       "      <td>0.029851</td>\n",
       "      <td>0.393070</td>\n",
       "      <td>0.0</td>\n",
       "      <td>0.0</td>\n",
       "      <td>1.0</td>\n",
       "      <td>0.0</td>\n",
       "      <td>0.0</td>\n",
       "      <td>0.0</td>\n",
       "      <td>...</td>\n",
       "      <td>0.0</td>\n",
       "      <td>0.0</td>\n",
       "      <td>0.0</td>\n",
       "      <td>0.0</td>\n",
       "      <td>0.0</td>\n",
       "      <td>1.0</td>\n",
       "      <td>False</td>\n",
       "      <td>False</td>\n",
       "      <td>False</td>\n",
       "      <td>False</td>\n",
       "    </tr>\n",
       "    <tr>\n",
       "      <th>7</th>\n",
       "      <td>0.487179</td>\n",
       "      <td>1.0</td>\n",
       "      <td>0.164179</td>\n",
       "      <td>0.311955</td>\n",
       "      <td>0.0</td>\n",
       "      <td>1.0</td>\n",
       "      <td>1.0</td>\n",
       "      <td>0.0</td>\n",
       "      <td>1.0</td>\n",
       "      <td>0.0</td>\n",
       "      <td>...</td>\n",
       "      <td>0.0</td>\n",
       "      <td>0.0</td>\n",
       "      <td>0.0</td>\n",
       "      <td>0.0</td>\n",
       "      <td>1.0</td>\n",
       "      <td>0.0</td>\n",
       "      <td>0.0</td>\n",
       "      <td>1.0</td>\n",
       "      <td>0.0</td>\n",
       "      <td>0.0</td>\n",
       "    </tr>\n",
       "    <tr>\n",
       "      <th>8</th>\n",
       "      <td>0.230769</td>\n",
       "      <td>1.0</td>\n",
       "      <td>0.417910</td>\n",
       "      <td>0.388039</td>\n",
       "      <td>0.0</td>\n",
       "      <td>0.0</td>\n",
       "      <td>1.0</td>\n",
       "      <td>0.0</td>\n",
       "      <td>1.0</td>\n",
       "      <td>0.0</td>\n",
       "      <td>...</td>\n",
       "      <td>0.0</td>\n",
       "      <td>0.0</td>\n",
       "      <td>1.0</td>\n",
       "      <td>0.0</td>\n",
       "      <td>0.0</td>\n",
       "      <td>0.0</td>\n",
       "      <td>1.0</td>\n",
       "      <td>0.0</td>\n",
       "      <td>0.0</td>\n",
       "      <td>0.0</td>\n",
       "    </tr>\n",
       "  </tbody>\n",
       "</table>\n",
       "<p>5 rows × 57 columns</p>\n",
       "</div>"
      ],
      "text/plain": [
       "    Product_Info_4  Product_Info_6   Ins_Age       BMI  Employment_Info_3  \\\n",
       "Id                                                                          \n",
       "2         0.076923             0.0  0.641791  0.280685                0.0   \n",
       "5         0.076923             1.0  0.059701  0.226794                1.0   \n",
       "6         0.076923             1.0  0.029851  0.393070                0.0   \n",
       "7         0.487179             1.0  0.164179  0.311955                0.0   \n",
       "8         0.230769             1.0  0.417910  0.388039                0.0   \n",
       "\n",
       "    Employment_Info_5  InsuredInfo_4  InsuredInfo_5  InsuredInfo_6  \\\n",
       "Id                                                                   \n",
       "2                 1.0            1.0            0.0            1.0   \n",
       "5                 0.0            1.0            0.0            1.0   \n",
       "6                 0.0            1.0            0.0            0.0   \n",
       "7                 1.0            1.0            0.0            1.0   \n",
       "8                 0.0            1.0            0.0            1.0   \n",
       "\n",
       "    InsuredInfo_7  ...  Product_Info_2_A8  Product_Info_2_D1  \\\n",
       "Id                 ...                                         \n",
       "2             0.0  ...                0.0                0.0   \n",
       "5             0.0  ...                0.0                0.0   \n",
       "6             0.0  ...                0.0                0.0   \n",
       "7             0.0  ...                0.0                0.0   \n",
       "8             0.0  ...                0.0                0.0   \n",
       "\n",
       "    Product_Info_2_D2  Product_Info_2_D3  Product_Info_2_D4  \\\n",
       "Id                                                            \n",
       "2                 0.0                1.0                0.0   \n",
       "5                 0.0                0.0                0.0   \n",
       "6                 0.0                0.0                0.0   \n",
       "7                 0.0                0.0                1.0   \n",
       "8                 1.0                0.0                0.0   \n",
       "\n",
       "    Product_Info_2_E1  KMeansCluster_4  KMeansCluster_5  KMeansCluster_11  \\\n",
       "Id                                                                          \n",
       "2                 0.0            False            False             False   \n",
       "5                 0.0            False            False             False   \n",
       "6                 1.0            False            False             False   \n",
       "7                 0.0              0.0              1.0               0.0   \n",
       "8                 0.0              1.0              0.0               0.0   \n",
       "\n",
       "    KMeansCluster_13  \n",
       "Id                    \n",
       "2              False  \n",
       "5              False  \n",
       "6              False  \n",
       "7                0.0  \n",
       "8                0.0  \n",
       "\n",
       "[5 rows x 57 columns]"
      ]
     },
     "execution_count": 5,
     "metadata": {},
     "output_type": "execute_result"
    }
   ],
   "source": [
    "# Display the features of the first 5 data points\n",
    "x_full.head()"
   ]
  },
  {
   "cell_type": "markdown",
   "id": "24ffed2c",
   "metadata": {},
   "source": [
    "We have approximately 59,000 data points describing life insurance applicants' information related to age, employment status, medical conditions, and other factors. The dataset has already been preprocessed and normalized [[10]](#R-10), with the independent variables being now of type float. If you're interested in obtaining the raw data you can refer to [[1]](#R-1). \n",
    "\n",
    "Let's now take a look at the response variable of our dataset."
   ]
  },
  {
   "cell_type": "code",
   "execution_count": 6,
   "id": "d83fb890",
   "metadata": {},
   "outputs": [
    {
     "name": "stdout",
     "output_type": "stream",
     "text": [
      "Data Set Labels: \n",
      "\n",
      " Response    int64\n",
      "dtype: object\n"
     ]
    },
    {
     "data": {
      "text/html": [
       "<div>\n",
       "<style scoped>\n",
       "    .dataframe tbody tr th:only-of-type {\n",
       "        vertical-align: middle;\n",
       "    }\n",
       "\n",
       "    .dataframe tbody tr th {\n",
       "        vertical-align: top;\n",
       "    }\n",
       "\n",
       "    .dataframe thead th {\n",
       "        text-align: right;\n",
       "    }\n",
       "</style>\n",
       "<table border=\"1\" class=\"dataframe\">\n",
       "  <thead>\n",
       "    <tr style=\"text-align: right;\">\n",
       "      <th></th>\n",
       "      <th>Response</th>\n",
       "    </tr>\n",
       "  </thead>\n",
       "  <tbody>\n",
       "    <tr>\n",
       "      <th>count</th>\n",
       "      <td>59381.000000</td>\n",
       "    </tr>\n",
       "    <tr>\n",
       "      <th>mean</th>\n",
       "      <td>5.636837</td>\n",
       "    </tr>\n",
       "    <tr>\n",
       "      <th>std</th>\n",
       "      <td>2.456833</td>\n",
       "    </tr>\n",
       "    <tr>\n",
       "      <th>min</th>\n",
       "      <td>1.000000</td>\n",
       "    </tr>\n",
       "    <tr>\n",
       "      <th>25%</th>\n",
       "      <td>4.000000</td>\n",
       "    </tr>\n",
       "    <tr>\n",
       "      <th>50%</th>\n",
       "      <td>6.000000</td>\n",
       "    </tr>\n",
       "    <tr>\n",
       "      <th>75%</th>\n",
       "      <td>8.000000</td>\n",
       "    </tr>\n",
       "    <tr>\n",
       "      <th>max</th>\n",
       "      <td>8.000000</td>\n",
       "    </tr>\n",
       "  </tbody>\n",
       "</table>\n",
       "</div>"
      ],
      "text/plain": [
       "           Response\n",
       "count  59381.000000\n",
       "mean       5.636837\n",
       "std        2.456833\n",
       "min        1.000000\n",
       "25%        4.000000\n",
       "50%        6.000000\n",
       "75%        8.000000\n",
       "max        8.000000"
      ]
     },
     "execution_count": 6,
     "metadata": {},
     "output_type": "execute_result"
    }
   ],
   "source": [
    "print(\"Data Set Labels: \\n\\n\", y_full.dtypes)\n",
    "y_full.describe()"
   ]
  },
  {
   "cell_type": "code",
   "execution_count": 7,
   "id": "dc43fa35",
   "metadata": {},
   "outputs": [
    {
     "data": {
      "text/html": [
       "<div>\n",
       "<style scoped>\n",
       "    .dataframe tbody tr th:only-of-type {\n",
       "        vertical-align: middle;\n",
       "    }\n",
       "\n",
       "    .dataframe tbody tr th {\n",
       "        vertical-align: top;\n",
       "    }\n",
       "\n",
       "    .dataframe thead th {\n",
       "        text-align: right;\n",
       "    }\n",
       "</style>\n",
       "<table border=\"1\" class=\"dataframe\">\n",
       "  <thead>\n",
       "    <tr style=\"text-align: right;\">\n",
       "      <th></th>\n",
       "      <th>Response</th>\n",
       "    </tr>\n",
       "    <tr>\n",
       "      <th>Id</th>\n",
       "      <th></th>\n",
       "    </tr>\n",
       "  </thead>\n",
       "  <tbody>\n",
       "    <tr>\n",
       "      <th>2</th>\n",
       "      <td>8</td>\n",
       "    </tr>\n",
       "    <tr>\n",
       "      <th>5</th>\n",
       "      <td>4</td>\n",
       "    </tr>\n",
       "    <tr>\n",
       "      <th>6</th>\n",
       "      <td>8</td>\n",
       "    </tr>\n",
       "    <tr>\n",
       "      <th>7</th>\n",
       "      <td>8</td>\n",
       "    </tr>\n",
       "    <tr>\n",
       "      <th>8</th>\n",
       "      <td>8</td>\n",
       "    </tr>\n",
       "  </tbody>\n",
       "</table>\n",
       "</div>"
      ],
      "text/plain": [
       "    Response\n",
       "Id          \n",
       "2          8\n",
       "5          4\n",
       "6          8\n",
       "7          8\n",
       "8          8"
      ]
     },
     "execution_count": 7,
     "metadata": {},
     "output_type": "execute_result"
    }
   ],
   "source": [
    "# Display first 5 values of applicants' risk ratings\n",
    "y_full.head()"
   ]
  },
  {
   "cell_type": "code",
   "execution_count": 8,
   "id": "7401e90d",
   "metadata": {},
   "outputs": [
    {
     "data": {
      "text/plain": [
       "Text(0.5, 1.0, 'Response Distribution')"
      ]
     },
     "execution_count": 8,
     "metadata": {},
     "output_type": "execute_result"
    },
    {
     "data": {
      "image/png": "[encoded data removed]",
      "text/plain": [
       "<Figure size 640x480 with 1 Axes>"
      ]
     },
     "metadata": {},
     "output_type": "display_data"
    }
   ],
   "source": [
    "# Visualize the distribution of applicants' risk ratings in the full dataset.\n",
    "plt.hist(y_full['Response'], bins=sorted(y_full['Response'].unique()), color = \"hotpink\")\n",
    "plt.xlabel('Response')\n",
    "plt.ylabel('# of Applicants')\n",
    "plt.title('Response Distribution')"
   ]
  },
  {
   "cell_type": "markdown",
   "id": "5a487f5c",
   "metadata": {},
   "source": [
    "The histogram above shows the full dataset's distribution of applicants by their determined risk ratings (i.e. Response). We can see that this variable are integers ranging from 1 to 8. Now, the TensorFlow neural networks will only take a categorical variable of k classes to be integers from 0 to k-1, so we'll need to encode the data in this way."
   ]
  },
  {
   "cell_type": "code",
   "execution_count": 9,
   "id": "76099cb0",
   "metadata": {},
   "outputs": [
    {
     "name": "stderr",
     "output_type": "stream",
     "text": [
      "C:\\ProgramData\\anaconda3\\Lib\\site-packages\\sklearn\\preprocessing\\_label.py:114: DataConversionWarning: A column-vector y was passed when a 1d array was expected. Please change the shape of y to (n_samples, ), for example using ravel().\n",
      "  y = column_or_1d(y, warn=True)\n",
      "C:\\ProgramData\\anaconda3\\Lib\\site-packages\\sklearn\\preprocessing\\_label.py:132: DataConversionWarning: A column-vector y was passed when a 1d array was expected. Please change the shape of y to (n_samples, ), for example using ravel().\n",
      "  y = column_or_1d(y, dtype=self.classes_.dtype, warn=True)\n",
      "C:\\ProgramData\\anaconda3\\Lib\\site-packages\\sklearn\\preprocessing\\_label.py:132: DataConversionWarning: A column-vector y was passed when a 1d array was expected. Please change the shape of y to (n_samples, ), for example using ravel().\n",
      "  y = column_or_1d(y, dtype=self.classes_.dtype, warn=True)\n"
     ]
    }
   ],
   "source": [
    "# Label-encode each dataset for compatibility with keras TensorFlow API\n",
    "le = LabelEncoder()\n",
    "# Convert each set of class labels (1-8) into encoded labels (0-7).\n",
    "y_train = le.fit_transform(y_train)\n",
    "y_valid = le.transform(y_valid)\n",
    "y_test = le.transform(y_test)"
   ]
  },
  {
   "cell_type": "markdown",
   "id": "79d86358",
   "metadata": {},
   "source": [
    "<a name='3'></a>\n",
    "## 3 - Build model and tune hyperparameters"
   ]
  },
  {
   "cell_type": "markdown",
   "id": "40ebb94b",
   "metadata": {},
   "source": [
    "We'll construct a multilayer perceptron with RELU activation for the hidden layers and softmax activation for the output layer, as it's standard in multiclassification problems. We'll tune the number of layers, units per layer, learning rate, and mini-batch size hyperparameters, by employing the random search optimizer method, although you'll notice that the Keras tuner library offers various search algorithms.\n",
    "\n",
    "<a name='3-1'></a>\n",
    "## 3.1 - Build the Model and Define the Hyperparameters\n",
    "\n",
    "To tune the hyperparameters with the Keras Tuner library, we need to define and build our Keras model within the `build` method of a subclass of the Keras Tuner `HyperModel` class. Here's a sketch outlining the structure of the code to achieve this:\n",
    "\n",
    "```python\n",
    "class MyHyperModel(kt.HyperModel):\n",
    "    def build(self, hp):        \n",
    "\n",
    "        model = keras.Sequential()                             \n",
    "        model.add(...)  # Build your model here\n",
    "        ...\n",
    "        model.compile(...)  # Compile the model\n",
    "        \n",
    "        return model  # Return the compiled model                                       \n",
    "    \n",
    "```\n",
    "\n",
    "\n",
    "Now, you'll create a model using the TensorFlow Keras Sequential API, which allows you to build layer by layer, ideal for models with exactly one input tensor and one output tensor per layer. \n",
    "\n",
    "To define the hyperparameters, utilize the hp argument of the build function, which is passed as a HyperParameters class instance during execution. The method of the HyperParameters class to use depends on the type of the hyperparameter to be tuned. For example, to tune the number of units in the first hidden layer, use the `HyperParameters.Int()` method, like in the following example:\n",
    "\n",
    "\n",
    "```python\n",
    "\n",
    "class MyHyperModel(kt.HyperModel):\n",
    "   def build(self, hp):\n",
    "    \n",
    "       model = keras.Sequential()      \n",
    " \n",
    "       model.add(keras.layers.Dense(  \n",
    "           units = hp.Int('units', min_value=12, max_value=90),  # Make the number of units an integer type hyperparameter\n",
    "           activation = 'relu'))                                         \n",
    "   \n",
    "       ...   # Finish building and compiling model    \n",
    "\n",
    "       return model  # Return the compiled model\n",
    "     \n",
    "```\n",
    "You can also tune the number of hidden layers of your model:\n",
    "\n",
    "```python\n",
    "\n",
    "class MyHyperModel(kt.HyperModel):\n",
    "    def build(self, hp):\n",
    "        \n",
    "        model = keras.Sequential()  \n",
    "        \n",
    "        # Define a hyperparameter for the number of hidden layers\n",
    "        hp_layers = hp.Int(\"n_layers\", min_value=6, max_value=13, step=3) \n",
    "        \n",
    "        # Add hidden layers dynamically based on the hyperparameter\n",
    "        for i in range(hp_layers):\n",
    "             model.add(keras.layers.Dense(units=20, activation='relu'))\n",
    "          \n",
    "        ...  # Finish building and compiling model    \n",
    "      \n",
    "        return model  # Return the compiled model\n",
    "    \n",
    "```\n",
    "\n",
    "The `HyperParameters.Int()` method, as demonstrated above, enables you to specify the name of the integer hyperparameter along with its minimum and maximum values, and optionally a step size to define the search grid for the hyperparameter. By default, it employs linear sampling, but you have the flexibility to specify the type of sampling you prefer.\n",
    "\n",
    "This method provides an effective means to tune all your integer hyperparameters. However, if you wish to tune other types of hyperparameters, such as the activation function of certain hidden layers or the learning rate, the HyperParameters class offers several additional methods for this purpose [[9]](#R-9). Here's a list of the <a name='hyper_meth'></a> available options:\n",
    "\n",
    "- `HyperParameters.Int(name, min_value, max_value, step=None, sampling=\"linear\", ...)`: Integer hyperparameter.\n",
    "- `HyperParameters.Float(name, min_value, max_value, step=None, sampling=\"linear\", ...)`: Floating-point value hyperparameter.\n",
    "- `HyperParameters.Boolean(name, ...) `: Boolean hyperparameter (choice between True and False).\n",
    "- `HyperParameters.Choice(name, values, ordered=None, ...)`: Choice of one value among a predefined set of possible values passed within a list."
   ]
  },
  {
   "cell_type": "markdown",
   "id": "5afb4594",
   "metadata": {},
   "source": [
    "<a name='3-1-1'></a>\n",
    "## 3.1.1 - Special case for mini-batch size tuning\n",
    "\n",
    "The mini-batch size is a hyperparameter that has been consistently found to be crucial to optimize. However, it cannot be directly modified within the build method of the class since it lies outside the scope of the model implementation as opposed to other hyperparameters. To tune it, we need to override the fit method of the parent HyperModel class. By doing so, we can ensure that the mini-batch size is passed as an argument to the ```model.fit``` method. Don't fret, though! The code required for this adjustment is straightforward and illustrated in the following snippet.\n",
    "\n",
    "\n",
    "```python\n",
    "class MyHyperModel(kt.HyperModel):\n",
    "    def build(self, hp):\n",
    "        model = keras.Sequential()                             # Define model\n",
    "        ...                                                    # Build model by adding layers \n",
    "      \n",
    "        model.compile(optimizer = 'adam',                        # Compile model\n",
    "                      loss = keras.losses.CategoricalCrossentropy(), \n",
    "                      metrics = ['accuracy'])  \n",
    "      \n",
    "        return model                                           # Return your compiled model\n",
    "    \n",
    "    def fit(self, hp, model, *args, **kwargs):\n",
    "           return model.fit(\n",
    "               *args,\n",
    "               # Define the \"batch_size\" hyperparameter here\n",
    "               batch_size = hp.Choice(\"batch_size\", [32, 64, 128, 256]), \n",
    "               **kwargs,\n",
    "           )\n",
    "```"
   ]
  },
  {
   "cell_type": "markdown",
   "id": "42086451",
   "metadata": {},
   "source": [
    "<a name='ex-1'></a>\n",
    "## Exercise 1 - Defining Hyperparameters within the Model\n",
    "\n",
    "In this exercise you'll construct a multilayer perceptron for an eight-class classifier. We'll define several hyperparameters to be  fine-tuned later, such as the learning rate, mini-batch size, number of hidden layers, their activation function, and the number of units in each layer. The basic code structure has already been implemented for you and you just have to complete the missing parts.\n",
    "\n",
    "Here are the specifications you need to consider for each hyperparameter. Remember to use the appropiate `Hyperparameters` [methods](#hyper_meth) for each case:\n",
    "\n",
    "- **Number of hidden layers:** Name this parameter `'hidden_layers'`. Set the search space for this parameter to include all integers ranging from 1 to 5. \n",
    "\n",
    "- **Number of units in each layer:** Name the parameter representing the number of units of the ith layer `'units_i'`. Set the search space for this parameter to include integers ranging from 15, to 120, with a step of 5.\n",
    "\n",
    "- **Activation function for hidden layers:** Name this hyperparameter `'layers_activation'`. Set the tuner to choose between the `'relu'`, `'sigmoid'`, and `'tanh'` activation functions [[8]](#R-8). \n",
    "\n",
    "- **Learning rate:** Name this hyperparamter `'learning_rate'`. Set the search space of this hyperparamter to be range between 0.01 and 0.001 using logarithmic sampling. The string representation for this is type of sampling is `'log'`.\n",
    "\n",
    "- **Mini-batch size:** Name this hyperparameter `'batch_size'`. Set the tuner to choose between the values 16, 32, 64, 128, 256,  and 512. Remember the format to pass these values for the `Hyperparameters.Choice()` method is within a list.\n",
    "\n",
    " **Note:** The choice of the **cross entropy loss function** in the ```model.compile()``` method for your classification tasks depends on how the labels are encoded. If the class variable of the k-class classifier is encoded by an integer ranging from 0 to k-1, then use the `keras.losses.SparseCategoricalCrossentropy()` loss function. Otherwise, if it's encoded in one-hot representation, i.e., by a k-length vector where the entry corresponding with the class is 1 and all other entries are zero, then use the `keras.losses.CategoricalCrossentropy()` loss function. You can refer back to the [2 - Load and Explore the Data](#2) section of this notebook to see the way the response variable is encoded for the life insurance applicants.\n"
   ]
  },
  {
   "cell_type": "code",
   "execution_count": 10,
   "id": "ae58318f",
   "metadata": {},
   "outputs": [],
   "source": [
    "class InitialHyperModel(kt.HyperModel):\n",
    "    def build(self, hp):\n",
    "        \n",
    "        model = keras.Sequential()\n",
    "        \n",
    "        ## START CODE HERE\n",
    "        \n",
    "        # Define the hidden layers hyperparameter and save it in the hp_layers variable (≈1 line)\n",
    "        \n",
    "        hp_layers = hp.Int('hidden_layers', 1, 5)\n",
    "          \n",
    "        # Define the activation function hyperparameter and save it in the hp_activation variable (≈1 line)\n",
    "        \n",
    "        hp_activation = hp.Choice('activations', ['relu', 'sigmoid', 'tanh'])\n",
    "        \n",
    "        # Tune the learning rate for the optimizer and save it in the hp_learning_rate variable (≈1 line)\n",
    "        \n",
    "        hp_learning_rate = hp.Float(\"learning_rate\", min_value=1e-4, max_value=1e-2, sampling=\"linear\")\n",
    "          \n",
    "        ## END CODE HERE\n",
    "\n",
    "        # Add hidden layers dynamically based on the hyperparameter\n",
    "        for i in range(1,1+hp_layers):\n",
    "            \n",
    "             model.add(\n",
    "                 keras.layers.Dense(\n",
    "                     \n",
    "                     ## START CODE HERE\n",
    "                     \n",
    "                     # Tune the number of units in each hidden layer (≈1 line)\n",
    "                     # units=hp.Int('units_'+str(i),...),   \n",
    "                     \n",
    "                     units=hp.Int('units_'+str(i), min_value=15, max_value=120, step=5),\n",
    "                     \n",
    "                     # Set activation as the hyperparameter activation variable (≈1 line)\n",
    "                     \n",
    "                     activation=hp_activation,\n",
    "                     \n",
    "                     ## END CODE HERE\n",
    "                 )\n",
    "             )\n",
    "        \n",
    "        # Add output layer of the 8-class classifier network\n",
    "        model.add(keras.layers.Dense(8, activation='softmax'))\n",
    "     \n",
    "        model.compile(optimizer=keras.optimizers.Adam(learning_rate=hp_learning_rate),\n",
    "                      ## START CODE HERE\n",
    "                      \n",
    "                      # Specify the loss function for the model (≈1 line)\n",
    "                      # loss=...,   \n",
    "                      \n",
    "                      loss = keras.losses.SparseCategoricalCrossentropy(),\n",
    "                      \n",
    "                      ## END CODE HERE\n",
    "\n",
    "                      metrics=['accuracy'])  \n",
    "    \n",
    "        return model\n",
    "    \n",
    "    \n",
    "    def fit(self, hp, model, *args, **kwargs):\n",
    "            return model.fit(\n",
    "                *args,\n",
    "                ## START CODE HERE\n",
    "                \n",
    "                # Set batch size as a hyperparameter (≈1 line)\n",
    "                batch_size=hp.Choice(\"batch_size\", [16, 32, 64, 128, 256, 512]),\n",
    "                \n",
    "                ## END CODE HERE\n",
    "                **kwargs,\n",
    "            )\n",
    "               "
   ]
  },
  {
   "cell_type": "markdown",
   "id": "8bec88b4",
   "metadata": {},
   "source": [
    "<a name='3-2'></a>\n",
    "## 3.2 - Search for the Best hyperparameters\n"
   ]
  },
  {
   "cell_type": "markdown",
   "id": "775f1835",
   "metadata": {},
   "source": [
    "Now, let's delve into searching for the optimized hyperparameters of our model, which were defined within the subclass of the `keras_tuner.HyperModel` class. The Keras Tuner library provides several tuning methods for our search, each implemented as a subclass of the `Tuner()` class. These tuning methods include the GridSearch Tuner, RandomSearch Tuner, BayesianOptimization Tuner, and Hyperband Tuner. [[2]](#R-2)\n",
    "\n",
    "Once you've settled on your preferred tuning method, the next step is to instantiate the corresponding Keras Tuner class. You'll need to specify the subclass of the basic `HyperModel` class where your model is defined, along with an objective metric against which the hyperparameter optimization will be performed. Below is an example of instantiating the GridSearch Tuner class to tune the hyperparameters of a model defined in the subclass `MyHyperModel()`:\n",
    "\n",
    "\n",
    "```python\n",
    "\n",
    "class MyHyperModel(kt.HyperModel):\n",
    "    def build(self, hp):        \n",
    "        \n",
    "        model = keras.Sequential()                             \n",
    "        model.add(...)  # Construction of the model\n",
    "        model.compile(...)  # Compilation of the model \n",
    "        \n",
    "        return model  # Return the compiled model  \n",
    "\n",
    "tuner = keras_tuner.GridSearch(\n",
    "    hypermodel=MyHyperModel(), # Name of the class where the model was built\n",
    "    objective=\"val_loss\",      # The metric to optimize\n",
    "    max_trials=none,           # Maximum number of trials (hyperparameter combinations) to test\n",
    "    executions_per_trial=2,    # Number of executions per trial\n",
    "    overwrite=True,            # Whether to overwrite the results of a previous run\n",
    "    directory=None,            # Directory to save logs and checkpoints\n",
    "    project_name=None,         # Name of the project (if saved)\n",
    ")\n",
    "\n",
    "```\n",
    "Here's a description of the main argument:\n",
    "- **hypermodel**: The subclass of the `HyperModel` class where your model is defined.\n",
    "- **objective**: The metric to optimize, in this case, minimizing validation loss. Common strings for this parameter include **'val_loss'** and **'val_accuracy'**, but you can also use any Keras built-in metric [[3]](#R-3) or loss [[4]](#R-4) name, such as 'mean_squared_error'. Add 'val_' at the beginning of the metric name string to specify that the metric to optimize is to be evaluated on the validation set rather than the training set.  \n",
    "  **Note**: The metric can be passed also as a ```keras_tuner.Objective``` instance [[5]](#R-5), as we'll see an example of later in this tutorial. We can also provide a list of metrics, and the sum of each with its corresponding sign will be minimized.\n",
    "- **max_trials**: The maximum number of different hyperparameter combinations to try. If left unspecified, it runs until the search space is exhausted.\n",
    "- **executions_per_trial**: The number of executions (training runs) per trial, allowing for different weight initializations for each set of hyperparameter values.\n",
    "\n",
    "\n",
    "It's important to note that in this tutorial, we'll always optimize our hyperparameters with respect to the validation set, as this was the purpose of splitting it initially. Therefore, any metric or loss string to be passed to the objective argument of the tuners should be in the format `f\"val_{name_of_metric}\"`.\n",
    "\n",
    "All tuners share similar initialization arguments and default values, although some of them may vary from tuner to tuner. After instantiating the Tuner object, you can access various methods to manage the optimization process:\n",
    "\n",
    "<a name='hyper_func'></a>\n",
    "- ```tuner.search_space_summary()```: Displays the summary of the hyperparameter search space.\n",
    "- ```tuner.search()```: Performs the hyperparameter search using the corresponding tuning method.\n",
    "- ```tuner.get_best_hyperparameters()```: Retrieves the best hyperparameters found during the search.\n",
    "- ```tuner.get_best_models()```: Obtains the models with the optimized hyperparameters.\n",
    "\n",
    "\n",
    "Once you have your optimized model, you can proceed to fit it, evaluate it, and make predictions just like with any regular Keras model."
   ]
  },
  {
   "cell_type": "markdown",
   "id": "ac2bb9b2",
   "metadata": {},
   "source": [
    "<a name='ex-2'></a>\n",
    "## Exercise 2 - Fine-tuning the Hyperparameters\n",
    "\n",
    "In this exercise, you will perform a random search for the hyperparameters defined in the model built in the previous exercise and prepare your optimized model for the fitting and predicting steps. \n",
    "\n",
    "First, start by instantiating the RandomSearch tuner class with the following specifications:\n",
    "\n",
    "- Set the hypermodel argument to be the class `InitialHyperModel()`,  where you built the model in the previous exercise.\n",
    "- Set the objective metric to be the accuracy of the validation set.\n",
    "- Limit the search to a maximum of 6 trials. "
   ]
  },
  {
   "cell_type": "code",
   "execution_count": 11,
   "id": "32428e56",
   "metadata": {},
   "outputs": [],
   "source": [
    "initial_tuner = kt.RandomSearch(\n",
    "    \n",
    "## START CODE HERE\n",
    "    \n",
    "# Specify the required arguments for the tuner (≈3 lines)\n",
    "#   hypermodel =...,    \n",
    "#   obective =...,    \n",
    "#   max_trials =...,    \n",
    "\n",
    "InitialHyperModel(),\n",
    "objective = 'val_accuracy',\n",
    "max_trials = 5,\n",
    "    \n",
    "## END CODE HERE\n",
    "    \n",
    "overwrite = True,        \n",
    "seed = 5)"
   ]
  },
  {
   "cell_type": "markdown",
   "id": "ea6ae26c",
   "metadata": {},
   "source": [
    "Now let's examine the hyperparameters search space of the `initial_tuner` you just initialized."
   ]
  },
  {
   "cell_type": "code",
   "execution_count": 12,
   "id": "c405751d",
   "metadata": {},
   "outputs": [
    {
     "name": "stdout",
     "output_type": "stream",
     "text": [
      "Search space summary\n",
      "Default search space size: 4\n",
      "hidden_layers (Int)\n",
      "{'default': None, 'conditions': [], 'min_value': 1, 'max_value': 5, 'step': 1, 'sampling': 'linear'}\n",
      "activations (Choice)\n",
      "{'default': 'relu', 'conditions': [], 'values': ['relu', 'sigmoid', 'tanh'], 'ordered': False}\n",
      "learning_rate (Float)\n",
      "{'default': 0.0001, 'conditions': [], 'min_value': 0.0001, 'max_value': 0.01, 'step': None, 'sampling': 'linear'}\n",
      "units_1 (Int)\n",
      "{'default': None, 'conditions': [], 'min_value': 15, 'max_value': 120, 'step': 5, 'sampling': 'linear'}\n"
     ]
    }
   ],
   "source": [
    "### START CODE HERE\n",
    "\n",
    "## Display the hyperparameters to be tuned\n",
    "## initial_tuner.search_... (≈1 line)\n",
    "initial_tuner.search_space_summary()\n",
    "\n",
    "### END CODE HERE"
   ]
  },
  {
   "cell_type": "markdown",
   "id": "d23bdc2f",
   "metadata": {},
   "source": [
    "The next steep is to proceed with the random search for the best hyperparameters. The tuner will train each model with the training set for a maximum of 5 epochs, and then select the best model based on their accuracy performance on the validation data."
   ]
  },
  {
   "cell_type": "code",
   "execution_count": 13,
   "id": "8053c657",
   "metadata": {},
   "outputs": [
    {
     "name": "stdout",
     "output_type": "stream",
     "text": [
      "Trial 5 Complete [00h 00m 05s]\n",
      "val_accuracy: 0.4958740174770355\n",
      "\n",
      "Best val_accuracy So Far: 0.5111990571022034\n",
      "Total elapsed time: 00h 00m 39s\n"
     ]
    }
   ],
   "source": [
    "initial_tuner.search(x_train, y_train, epochs=5, validation_data=(x_valid, y_valid))"
   ]
  },
  {
   "cell_type": "markdown",
   "id": "06eae870",
   "metadata": {},
   "source": [
    "Now that the search is complete, let's retrieve and save the model with the optimized hyperparameters, and display its values."
   ]
  },
  {
   "cell_type": "code",
   "execution_count": 14,
   "id": "939af0b8",
   "metadata": {},
   "outputs": [
    {
     "name": "stdout",
     "output_type": "stream",
     "text": [
      "{'hidden_layers': 3, 'activations': 'relu', 'learning_rate': 0.006803545685322677, 'units_1': 110, 'units_2': 30, 'units_3': 120, 'units_4': 115, 'batch_size': 256}\n"
     ]
    }
   ],
   "source": [
    "# Get the optimal model\n",
    "initial_best_model = initial_tuner.get_best_models()[0]\n",
    "\n",
    "# Get and print the optimal hyperparameters\n",
    "initial_best_hps=initial_tuner.get_best_hyperparameters(num_trials=1)[0]\n",
    "print(initial_best_hps.values)"
   ]
  },
  {
   "cell_type": "markdown",
   "id": "619d8232",
   "metadata": {},
   "source": [
    "Finally, utilize the evaluate method of the Keras Tuner model class to assess our model's performance with respect to the metrics specified during the compilation of the model."
   ]
  },
  {
   "cell_type": "code",
   "execution_count": 15,
   "id": "e1d27ae3",
   "metadata": {},
   "outputs": [
    {
     "name": "stdout",
     "output_type": "stream",
     "text": [
      "372/372 [==============================] - 0s 775us/step - loss: 1.3461 - accuracy: 0.5112\n"
     ]
    },
    {
     "data": {
      "text/plain": [
       "[1.3461064100265503, 0.5111990571022034]"
      ]
     },
     "execution_count": 15,
     "metadata": {},
     "output_type": "execute_result"
    }
   ],
   "source": [
    "# Evaluate model on validation set with loss and accuracy metrics\n",
    "initial_best_model.evaluate(x_valid, y_valid)"
   ]
  },
  {
   "cell_type": "markdown",
   "id": "3ea17cb7",
   "metadata": {},
   "source": [
    "<a name='4'></a>\n",
    "## 4 - Expanded Keras Tuner Features\n",
    "\n",
    "While the basic framework we've covered so far is sufficient for most typical needs during the hyperparameter tuning process of your neural network models, Keras-Tuner provides numerous alternatives and additional features for you to incorporate into your deep learning project. We will explore a couple of them in this section.\n",
    "\n",
    "<a name='4-1'></a>\n",
    "## 4.1 - Use Custom Metrics\n",
    "\n",
    "In addition to optimizing hyperparameters with respect to predefined metrics and losses provided by Keras, you can also use your own customized metric if you find the default metrics insufficient for selecting the best model for your task [[6](#R-6)]. One approach to indicate Keras to calculate the average of a custom metric evaluated on each mini-batch and use that as the overall metric. Here are the steps to implement this:\n",
    "\n",
    "\n",
    " **1.** Define your customized metric function with signature of the form `name_customized_metric(y_true, y_pred)`,  which takes the vectors `y_true` and `y_pred` as parameters and returns a scalar score.\n",
    "\n",
    " **2.** Include the custom metric function in the list of metrics during the compilation of the model.\n",
    "\n",
    " **3.** Pass a `keras_tuner.Objective`instantiation to the objective argument of the Keras Tuner initializer, with the string `'val_{name_customized_metric}'` for the first parameter, and the optimization direction for the second parameter. The latter should be either one of the \"min\" or \"max\" strings. \n",
    "\n",
    "Here's an example.\n",
    "```python\n",
    "\n",
    "# Define your custom metric function\n",
    "def my_metric_fn(y_true, y_pred):                            \n",
    "    \n",
    "    squared_difference = ops.square(y_true - y_pred)\n",
    "    return ops.mean(squared_difference, axis=-1) \n",
    "\n",
    "\n",
    "class MyHyperModel(kt.HyperModel):\n",
    "    def build(self, hp): \n",
    "        model = keras.Sequential()                   \n",
    "        ...                                                    \n",
    "       \n",
    "        model.compile(optimizer = 'adam',                       \n",
    "                      loss = 'categorical_crossentropy',\n",
    "                      # Include your custom metric in the compilation metrics\n",
    "                      metrics = [my_metric_fn, 'accuracy',...])    \n",
    "      \n",
    "        return model                                           \n",
    "    \n",
    "      ...                                                    \n",
    "    \n",
    "tuner = kt.RandomSearch(\n",
    "MyHyperModel(),\n",
    "# Pass the custom metric with the established format to the tuners' objective\n",
    "objective=kt.Objective(\"val_my_metric_fn\", \"max\"),                    \n",
    "max_trials=5)                                                \n",
    "                                                             \n",
    "```\n",
    "\n",
    "\n",
    "<a name='4-2'></a>\n",
    "## 4.2 - Tailor the Search Space\n",
    "\n",
    "Another feature of Keras Tuner is the ability to tune a subset of hyperparameters without modifying the hypermodel. This can be useful for when resource constraints arise, and for conducting prioritized hyperparameter searches, which means to first conduct the tuning of the most important hyperparameters, and let the least important ones to be tuned last. Here's how to tailor the search space:\n",
    "\n",
    "1. Define the complete set of hyperparameters within the model construction, and include default values for them. To do this you just have to specify the default parameter in the hyperparameter definition:\n",
    "\n",
    "  ```python\n",
    "  hp.Int(\"units\", min_value=32, max_value=128, step=32, default=64)\n",
    "  ```\n",
    "    Keras-Tuner will give any hyperparameter a default value in case you don't specify it.\n",
    "  \n",
    "2. Instantiate a `keras_tuner.HyperParameters()` object, and use it to redefine only the hyperparameters you want to tune in the current search using the same names as the originals.\n",
    "\n",
    "3. Pass your Hyperparameter object as an argument for the `hyperparameters` parameter of the tuner. \n",
    "4. Set the `tune_new_entries` parameter of the tuner to False to prevent not redefined parameters from being tuned and to allow them take their default values.\n",
    "\n",
    "\n",
    "Here's an example:\n",
    "\n",
    "```python\n",
    "\n",
    "# Define model and all hyperparameters\n",
    "class MyHyperModel(kt.HyperModel):                        \n",
    "       def build(self, hp):\n",
    "        \n",
    "           model = keras.Sequential()                             \n",
    "           model.add(\n",
    "               # Add a hyperparameter for the layers' units with default value 64 \n",
    "               layers.Dense(                                 \n",
    "                   units = hp.Int(\"units\", min_value=32, max_value=128, step=32, default=64)\n",
    "               )\n",
    "           )\n",
    "           ...                      \n",
    "       \n",
    "           model.compile(\n",
    "               optimizer=keras.optimizers.Adam(\n",
    "                   # Add a hyperparameter for learning rate\n",
    "                   learning_rate = hp.Choice(\"learning_rate\", values=[1e-2, 1e-3, 1e-4]) \n",
    "               ),\n",
    "               ...\n",
    "           )\n",
    "       \n",
    "           return model        \n",
    "\n",
    "# Instantiate a Hyperparameters object and save it as hp            \n",
    "hp = keras_tuner.HyperParameters()                          \n",
    "\n",
    "# This will override the `learning_rate` parameter \n",
    "hp.Float(\"learning_rate\", min_value=1e-4, max_value=1e-2, sampling=\"log\")  #\n",
    "\n",
    "tuner = keras_tuner.RandomSearch(\n",
    "    hypermodel = build_model,\n",
    "    # Pass hp as value for the \"hyperparameters\" argument of the tuner    \n",
    "    hyperparameters = hp,\n",
    "    # Set the parameter below to False to prevent parameters not overriden with the hp object from being tuned\n",
    "    tune_new_entries = False,\n",
    "    objective = \"val_accuracy\",\n",
    ")\n",
    "```\n",
    "In the previous example, the complete hyperparameters space include \"units\", and \"learning_rate\" as a choice hyperparameter. However, in the defined tuner, only the \"learning_rate\" hyperparameter will be tuned (notice that this time, as a float hyperparameter type), and the \"units\" hyperparameter will be set to its default value 64.\n",
    "\n",
    "<a name='ex-3'></a>\n",
    "\n",
    "## Exercise 3 - Prioritized Hyperparameter Tuning with Custom Metric\n",
    "\n",
    "In this exercise, we'll conduct a prioritized hyperparameter tuning, leveraging a custom metric to enhance our model's performance. While conventional metrics like accuracy, F1-Score, precision, and recall serve well in many classification tasks—such as identifying road signals, hand gestures, or domestic animals from images—, they may fall short when handling ordinal response variables. This limitation arises from the fact that they penalize predictions that are significantly far from the true value to the same degree as those that fall very close to it.\n",
    "\n",
    "\n",
    "Because our response variable involves rating life insurance applicants on a scale from 1 to 8, in this assignment we'll integrate the Quadratic Weighted Kappa (QWK) [[1]](#R-1) as a cutomized metric into the tuning process. This metric considers the ordinal nature of the classification task, by measuring the agreement between two ratings, typically ranging from 0 (indicating random agreement) to 1 (indicating complete agreement), although it can take on negative values in case the model performance is worst than a random classifier. Since it is not readily available in Keras, we've provided its function implementation for you.\n",
    "\n",
    "\n",
    "### 1 - Define the Quadratic Weighted Kappa metric function\n",
    "\n",
    "You don't need to modify the metric function definition, but you'll use this function for the next step."
   ]
  },
  {
   "cell_type": "code",
   "execution_count": 16,
   "id": "c6e315c3",
   "metadata": {},
   "outputs": [],
   "source": [
    "# Metric for the hyperparameter optimization of ordinal classification tasks\n",
    "\n",
    "def QuadraticWeightedKappa(y_true, y_pred_probs, N=8):\n",
    "    \n",
    "    \"\"\"\n",
    "    Calculate quadratic weighted kappa metric.\n",
    "\n",
    "    Args:\n",
    "    - y_true: tf.Tensor of true labels (actual risk) \n",
    "    - y_pred_probs: tf.Tensor of predicted probabilities (predicted risk) \n",
    "    - N: number of possible ratings\n",
    "\n",
    "    Returns:\n",
    "    - Quadratic weighted kappa score\n",
    "    \"\"\"\n",
    "\n",
    "    # Convert probabilities to class predictions        \n",
    "    y_pred = tf.argmax(y_pred_probs, axis=1)\n",
    "    \n",
    "    # Calculate the histogram matrix O\n",
    "    O = tf.math.confusion_matrix(y_true, y_pred, num_classes=N)\n",
    "    \n",
    "    # Calculate the weights matrix w\n",
    "    i, j = tf.meshgrid(tf.range(N), tf.range(N), indexing='ij')\n",
    "    w = tf.cast((i - j) ** 2, tf.float32) / tf.cast((N - 1) ** 2, tf.float32)\n",
    "\n",
    "    # Calculate the histogram matrix of expected ratings E\n",
    "    hist_true = tf.math.bincount(tf.cast(y_true, tf.int32), minlength=N)\n",
    "    hist_pred = tf.math.bincount(tf.cast(y_pred, tf.int32), minlength=N)\n",
    "    E = tf.linalg.matmul(tf.expand_dims(hist_true, axis=-1), tf.expand_dims(hist_pred, axis=0))\n",
    "    E = tf.cast(E, tf.float32)  # Cast E to float32\n",
    "    E *= tf.cast(tf.reduce_sum(O),tf.float32)/ tf.reduce_sum(E) \n",
    "    \n",
    "    # Calculate quadratic weighted kappa\n",
    "    numerator = tf.reduce_sum(w * tf.cast(O, tf.float32))\n",
    "    denominator = tf.reduce_sum(w * E)\n",
    "    kappa = 1 - (numerator / denominator)\n",
    "\n",
    "    return kappa"
   ]
  },
  {
   "cell_type": "markdown",
   "id": "9cad79e6",
   "metadata": {},
   "source": [
    "### 2 - Build the model and define all hyperparameters,\n",
    "\n",
    "For this exercise, we'll define the same model as before, but this time we'll add default values for the hyperparameters:\n",
    "\n",
    "- For the number of **hidden layers**, set the default value to **1**.\n",
    "- For the number of **units** in each layer, set the default value to **21**.\n",
    "- Set the default value of the **learning rate** to **1e-2**.\n",
    "- For the **mini-batch** size, set the default value to **32**.\n",
    "\n",
    "You will also have to include our Quadratic Weighted Kappa custom metric in the model compilation metrics, just like in the example in [4.1 - Use Custom Metrics](#4-1). Notice that the metric Keras Tuner is calculating is the mean of our custom metric evaluated on each mini-batch, which is not the same as evaluating the custom metric on the whole set at the same time."
   ]
  },
  {
   "cell_type": "code",
   "execution_count": 17,
   "id": "20c8711f",
   "metadata": {},
   "outputs": [],
   "source": [
    "## You may COPY AND PASTE the hyperpam definitions of the first exercise, and then add the default argument values\n",
    "\n",
    "class MyHyperModel(kt.HyperModel):\n",
    "    def build(self, hp):\n",
    "        \n",
    "        model = keras.Sequential()\n",
    "        \n",
    "        ## START CODE HERE\n",
    "                \n",
    "        # Define hidden layers and learning rate hyperparams with the indicated default values (≈2 lines)\n",
    "        # hp_layers = hp.Int(..., default= ...)\n",
    "        # hp_learning_rate = ...\n",
    "        \n",
    "        hp_layers = hp.Int('hidden_layers', 1, 5, default=1)                \n",
    "        hp_learning_rate = hp.Float(\"learning_rate\", min_value=1e-4, max_value=1e-2, sampling=\"log\", default=1e-2)\n",
    "          \n",
    "        ## END CODE HERE\n",
    "\n",
    "        # Add hidden layers dynamically based on the hyperparameter\n",
    "        for i in range(1,1+hp_layers):\n",
    "            \n",
    "             model.add(\n",
    "                 keras.layers.Dense(\n",
    "                     \n",
    "                     ## START CODE HERE\n",
    "                     \n",
    "                     # Define the number of units in the ith layer hyperparam with the indicated default value (≈1 line)\n",
    "                     # units=hp.Int('units_'+str(i)=..., default= ...),   \n",
    "                     \n",
    "                     units = hp.Int('units_'+str(i), min_value=15, max_value=120, step=5, default=21),\n",
    "                    \n",
    "                     ## END CODE HERE\n",
    "                     \n",
    "                     activation='relu',                     \n",
    "                 )\n",
    "             )\n",
    "        \n",
    "        # Add output layer of the 8-class classifier network\n",
    "        model.add(keras.layers.Dense(8, activation='softmax'))\n",
    "     \n",
    "        model.compile(optimizer = keras.optimizers.Adam(learning_rate=hp_learning_rate),\n",
    "                      loss = keras.losses.SparseCategoricalCrossentropy(),\n",
    "                      ## START CODE HERE\n",
    "\n",
    "                      metrics = ['accuracy', QuadraticWeightedKappa])  \n",
    "    \n",
    "                      ## END CODE HERE\n",
    "\n",
    "        return model\n",
    "    \n",
    "    \n",
    "    def fit(self, hp, model, *args, **kwargs):\n",
    "            return model.fit(\n",
    "                *args,\n",
    "                \n",
    "                ## START CODE HERE\n",
    "                \n",
    "                # Set the batch_size to a hyperparam with the indicated default value (≈1 line)                \n",
    "                batch_size = hp.Choice(\"batch_size\", [16, 32, 64, 128, 256, 512], default=32),\n",
    "                \n",
    "                ## END CODE HERE\n",
    "                \n",
    "                **kwargs,\n",
    "            )\n",
    "               "
   ]
  },
  {
   "cell_type": "markdown",
   "id": "4968350b",
   "metadata": {},
   "source": [
    "### 3 - Instantiate hyperparameters class and initialize tuner.\n",
    "\n",
    "Now, let's define your tuner by following these steps:\n",
    "\n",
    "1. Instantiate a `keras_tuner.HyperParameters()` object and save it's value in the `hp` variable. \n",
    "2. Re-define the two most typically relevant hyperparameters for these type of models: the learning rate and the mini-batch size. Use the `hp` object to re-define them in the same way you did when building the model (you can simply copy and paste this definition).\n",
    "3. Call the tuner and pass the appropriate arguments for the `hyperparameters` and `tune_new_entries` parameters. You can refer to the example in the [4.2 - Tailoring the Search Space](#4-2) section.\n",
    "4. Set the `objective` metric to be the Quadratic Weighted Kappa function defined previously and ensure it to be evaluated on the validation set. The optimization direction should be maximization. For this step, you may refer to the example in the [4.1 - Using Custom Metrics](#4-1) section."
   ]
  },
  {
   "cell_type": "code",
   "execution_count": 18,
   "id": "3942a8cf",
   "metadata": {},
   "outputs": [],
   "source": [
    "# You may COPY AND PASTE the hyperpam definitions of the previous code cell\n",
    "# You do NOT need to include the default values for the re-definitions, but they won't affect the tuning either way\n",
    "\n",
    "## START CODE HERE\n",
    "\n",
    "# Instantiate a kt.HyperParameters object and save it in the hp variable (≈1 line)\n",
    "\n",
    "hp = kt.HyperParameters()\n",
    "\n",
    "# Re-define the learning rate and the mini-batch size hyperparameters (≈2 line)\n",
    "# hp.Float(...)\n",
    "# hp.Choice(...)\n",
    "\n",
    "hp.Float(\"learning_rate\", min_value=1e-4, max_value=1e-2, sampling=\"log\")\n",
    "hp.Choice(\"batch_size\", [16, 32, 64, 128, 256, 512])\n",
    "\n",
    "## END CODE HERE\n",
    "\n",
    "tuner = kt.RandomSearch(\n",
    "hypermodel = MyHyperModel(),\n",
    "    \n",
    "## START CODE HERE\n",
    "\n",
    "# Specify the required arguments for the tuner (≈3 lines)\n",
    "# hyperparameters =...,    \n",
    "# tune_new_entries =...,    \n",
    "# objective =...,    \n",
    "    \n",
    "hyperparameters = hp,\n",
    "tune_new_entries = False,\n",
    "objective = kt.Objective(\"val_QuadraticWeightedKappa\", \"max\"),\n",
    "\n",
    "## END CODE HERE\n",
    "    \n",
    "seed = 5,\n",
    "max_trials = 5,\n",
    "overwrite=True,    \n",
    ")"
   ]
  },
  {
   "cell_type": "markdown",
   "id": "94a035e4",
   "metadata": {},
   "source": [
    "### 4 - Tune important hyperparameters.\n",
    "\n",
    "Execute the following code cells to proceed with the hyperparameter optimization process. You won't have to modify any of the code of these cells.\n",
    "\n",
    "First, we call the `search_space_summary` method to confirm that the only hyperparameters to be searched are the ones you re-defined in the previous step."
   ]
  },
  {
   "cell_type": "code",
   "execution_count": 19,
   "id": "ceea2149",
   "metadata": {},
   "outputs": [
    {
     "name": "stdout",
     "output_type": "stream",
     "text": [
      "Search space summary\n",
      "Default search space size: 2\n",
      "learning_rate (Float)\n",
      "{'default': 0.0001, 'conditions': [], 'min_value': 0.0001, 'max_value': 0.01, 'step': None, 'sampling': 'log'}\n",
      "batch_size (Choice)\n",
      "{'default': 16, 'conditions': [], 'values': [16, 32, 64, 128, 256, 512], 'ordered': True}\n"
     ]
    }
   ],
   "source": [
    "# Display the hyperparameters to be tuned\n",
    "tuner.search_space_summary()"
   ]
  },
  {
   "cell_type": "markdown",
   "id": "7681a137",
   "metadata": {},
   "source": [
    "Now, let's conduct the search for the optimized hyperparameters to obtain the best model and display its hyperparameter values."
   ]
  },
  {
   "cell_type": "code",
   "execution_count": 20,
   "id": "3739e2cb",
   "metadata": {},
   "outputs": [
    {
     "name": "stdout",
     "output_type": "stream",
     "text": [
      "Trial 5 Complete [00h 00m 14s]\n",
      "val_QuadraticWeightedKappa: 0.4283547103404999\n",
      "\n",
      "Best val_QuadraticWeightedKappa So Far: 0.46539294719696045\n",
      "Total elapsed time: 00h 00m 31s\n"
     ]
    }
   ],
   "source": [
    "# Search for the best hyperparameters\n",
    "tuner.search(x_train, y_train, epochs=5, validation_data=(x_valid, y_valid))"
   ]
  },
  {
   "cell_type": "code",
   "execution_count": 21,
   "id": "c97db044",
   "metadata": {},
   "outputs": [
    {
     "name": "stdout",
     "output_type": "stream",
     "text": [
      "{'learning_rate': 0.0008030805486457598, 'batch_size': 64, 'hidden_layers': 1, 'units_1': 21}\n"
     ]
    }
   ],
   "source": [
    "# Get the optimal model\n",
    "best_model = tuner.get_best_models()[0]\n",
    "\n",
    "# Get and print the optimal hyperparameters\n",
    "best_model_hps=tuner.get_best_hyperparameters(num_trials=1)[0]\n",
    "print(best_model_hps.values)"
   ]
  },
  {
   "cell_type": "markdown",
   "id": "78c5d503",
   "metadata": {},
   "source": [
    "Evaluate the model's performance on the validation dataset with respect to the metrics specified during the compilation of the model. "
   ]
  },
  {
   "cell_type": "code",
   "execution_count": 22,
   "id": "60400d35",
   "metadata": {},
   "outputs": [
    {
     "name": "stdout",
     "output_type": "stream",
     "text": [
      "372/372 [==============================] - 1s 814us/step - loss: 1.4500 - accuracy: 0.4694 - QuadraticWeightedKappa: 0.4595\n"
     ]
    },
    {
     "data": {
      "text/plain": [
       "[1.4500435590744019, 0.46943414211273193, 0.4594959616661072]"
      ]
     },
     "execution_count": 22,
     "metadata": {},
     "output_type": "execute_result"
    }
   ],
   "source": [
    "# Evaluate model on validation set with the loss, accuracy and mean of the QWK on each mini-batch metrics\n",
    "best_model.evaluate(x_valid, y_valid)"
   ]
  },
  {
   "cell_type": "markdown",
   "id": "79b2d516",
   "metadata": {},
   "source": [
    "### 5. Tune remaining hyperparameters\n",
    "\n",
    "The first step in tuning the remaining hyperparameters is to go back to the subclass `MyHyperModel` and modify the default values of the learning rate and mini-batch size hyperparameters to be the optimized ones we found in our previous search. For organizational reasons, you will instead modify a copy of that subclass code in the following cell. However, in your projects, you will only need to modify the default values in the initial `HyperModel` subclass where you built your model and not rewrite the entire code."
   ]
  },
  {
   "cell_type": "code",
   "execution_count": 23,
   "id": "86c241de",
   "metadata": {},
   "outputs": [],
   "source": [
    "# Retrieve the optimal learning rate and mini-batch size to set as default values in the next cell\n",
    "best_learning_rate = best_model_hps.values['learning_rate']\n",
    "best_batch_size = best_model_hps.values['batch_size']"
   ]
  },
  {
   "cell_type": "code",
   "execution_count": 24,
   "id": "4f4625a1",
   "metadata": {},
   "outputs": [],
   "source": [
    "# You may COPY AND PASTE the hyperpam definitions of the original MyHyperModel subclass defined earlier in this exercise\n",
    "# Then modify its default argument values\n",
    "\n",
    "class MyHyperModel(kt.HyperModel):\n",
    "    def build(self, hp):\n",
    "        \n",
    "        model = keras.Sequential()        \n",
    "        hp_layers = hp.Int('hidden_layers', 1, 5, default=1)\n",
    "        \n",
    "        ## START CODE HERE\n",
    "                \n",
    "        # Define learning rate hyperparam with the indicated default value (≈1 line)\n",
    "        # hp_learning_rate = ...\n",
    "        \n",
    "        hp_learning_rate = hp.Float(\"learning_rate\", min_value=1e-4, max_value=1e-2, sampling=\"log\", default= best_learning_rate)\n",
    "          \n",
    "        ## END CODE HERE\n",
    "\n",
    "        for i in range(1,1+hp_layers):            \n",
    "             model.add(\n",
    "                 keras.layers.Dense(                      \n",
    "                     units=hp.Int('units_'+str(i), min_value=15, max_value=120, step=5, default=21),                     \n",
    "                     activation='relu',                     \n",
    "                 )\n",
    "             )\n",
    "        \n",
    "\n",
    "        model.add(keras.layers.Dense(8, activation='softmax'))\n",
    "     \n",
    "        model.compile(optimizer=keras.optimizers.Adam(learning_rate=hp_learning_rate),\n",
    "                      loss=keras.losses.SparseCategoricalCrossentropy(),\n",
    "                      metrics=['accuracy', QuadraticWeightedKappa])  \n",
    "\n",
    "        return model\n",
    "    \n",
    "    \n",
    "    def fit(self, hp, model, *args, **kwargs):\n",
    "            return model.fit(\n",
    "                *args,\n",
    "                \n",
    "                ## START CODE HERE\n",
    "                \n",
    "                # Set the batch_size to a hyperparam with the indicated default value (≈1 line)                \n",
    "                batch_size=hp.Choice(\"batch_size\", [16, 32, 64, 128, 256, 512], default= best_batch_size),\n",
    "                \n",
    "                ## END CODE HERE\n",
    "                \n",
    "                **kwargs,\n",
    "            )\n",
    "               "
   ]
  },
  {
   "cell_type": "markdown",
   "id": "677cf216",
   "metadata": {},
   "source": [
    "### 6 - Instantiate hyperparameters class and initialize final tuner\n",
    "\n",
    "1. Instantiate a new Hyperparameters object and save it's value in the `hp_last` variable. \n",
    "2. Re-define the remaining `'hidden_layers'` and `f'units_{i}'` hyperparameters the same way you did originially when building of the model (you can simply copy and paste this definition). \n",
    "3. Call the tuner and pass the appropiate arguments for the `hyperparameteres` and `tune_new_entries` parameters. "
   ]
  },
  {
   "cell_type": "code",
   "execution_count": 25,
   "id": "e066a7c4",
   "metadata": {},
   "outputs": [],
   "source": [
    "# You may COPY AND PASTE the hyperpam definitions of the previous code cell\n",
    "# You do NOT need to include the default values for the re-definitions, but they won't affect the tuning either way\n",
    "\n",
    "\n",
    "## START CODE HERE\n",
    "\n",
    "# Instantiate a kt.HyperParameters object and save it in the hp_last variable (≈1 line)\n",
    "\n",
    "hp_last = kt.HyperParameters()\n",
    "\n",
    "# Re-define the number of hidden_layers hyperparameter and save it in the hp_last_layers variable (≈1 line)\n",
    "# hp_last_layers = hp_last.Int(...)\n",
    "\n",
    "hp_last_layers = hp_last.Int('hidden_layers', 1, 5)\n",
    "\n",
    "## END CODE HERE\n",
    "\n",
    "# Define a number of units hyperparameter for each layer\n",
    "for i in range(1,1+hp_last_layers):\n",
    "\n",
    "    ## START CODE HERE\n",
    "    \n",
    "    # Re-define the number of units of the ith layer hyperparameter (≈1 line)\n",
    "    #   hp_last.Int('units_'+str(i), ...)\n",
    "    hp_last.Int('units_'+str(i), min_value=15, max_value=120, step=5)\n",
    "\n",
    "    ## END CODE HERE\n",
    "\n",
    "\n",
    "# Initialize final tuner    \n",
    "final_tuner = kt.RandomSearch(\n",
    "MyHyperModel(),\n",
    "    \n",
    "## START CODE HERE\n",
    "\n",
    "# Specify the required arguments for the tuner (≈2 lines)\n",
    "# hyperparameters =...,    \n",
    "# tune_new_entries =...,    \n",
    "    \n",
    "hyperparameters = hp_last,\n",
    "tune_new_entries = False,\n",
    "\n",
    "## END CODE HERE\n",
    "    \n",
    "objective = kt.Objective(\"val_QuadraticWeightedKappa\", \"max\"),\n",
    "max_trials = 5,\n",
    "seed = 5,\n",
    "overwrite = True,\n",
    ")"
   ]
  },
  {
   "cell_type": "markdown",
   "id": "aad1bd15",
   "metadata": {},
   "source": [
    "### 7 - Search for Remaining Hyperparameters.\n",
    "\n",
    "Execute the following cells code to proceed with the hyperparameter optimization process. You won't have to modify any of the code of these cells.\n",
    "\n",
    "\n",
    "Call the search space summary method of the tuner to confirm that the only hyperparameters to be searched are the ones you re-defined in the previous step. Then search for these hyperparameters, get the best model and the optimal hyperparameters values, and evaluate your model on the validation dataset."
   ]
  },
  {
   "cell_type": "code",
   "execution_count": 26,
   "id": "2864d30e",
   "metadata": {},
   "outputs": [
    {
     "name": "stdout",
     "output_type": "stream",
     "text": [
      "Search space summary\n",
      "Default search space size: 2\n",
      "hidden_layers (Int)\n",
      "{'default': None, 'conditions': [], 'min_value': 1, 'max_value': 5, 'step': 1, 'sampling': 'linear'}\n",
      "units_1 (Int)\n",
      "{'default': None, 'conditions': [], 'min_value': 15, 'max_value': 120, 'step': 5, 'sampling': 'linear'}\n"
     ]
    }
   ],
   "source": [
    "# Display the hyperparameters to be tuned\n",
    "final_tuner.search_space_summary()"
   ]
  },
  {
   "cell_type": "code",
   "execution_count": 27,
   "id": "e11c93bc",
   "metadata": {},
   "outputs": [
    {
     "name": "stdout",
     "output_type": "stream",
     "text": [
      "Trial 5 Complete [00h 00m 05s]\n",
      "val_QuadraticWeightedKappa: 0.4718049466609955\n",
      "\n",
      "Best val_QuadraticWeightedKappa So Far: 0.4929348826408386\n",
      "Total elapsed time: 00h 00m 24s\n"
     ]
    }
   ],
   "source": [
    "# Search for the best hyperparameters\n",
    "final_tuner.search(x_train, y_train, epochs=5, validation_data=(x_valid, y_valid))"
   ]
  },
  {
   "cell_type": "code",
   "execution_count": 28,
   "id": "c8623999",
   "metadata": {},
   "outputs": [
    {
     "name": "stdout",
     "output_type": "stream",
     "text": [
      "{'hidden_layers': 3, 'units_1': 75, 'learning_rate': 0.0008030805486457598, 'units_2': 21, 'units_3': 21, 'batch_size': 64}\n"
     ]
    }
   ],
   "source": [
    "# Get the optimal model\n",
    "final_best_model = final_tuner.get_best_models()[0]\n",
    "\n",
    "# Get and display the optimal hyperparameters\n",
    "final_best_hps = final_tuner.get_best_hyperparameters(num_trials=1)[0]\n",
    "print(final_best_hps.values)"
   ]
  },
  {
   "cell_type": "code",
   "execution_count": 29,
   "id": "9bd69f34",
   "metadata": {},
   "outputs": [
    {
     "name": "stdout",
     "output_type": "stream",
     "text": [
      "372/372 [==============================] - 1s 864us/step - loss: 1.3992 - accuracy: 0.4919 - QuadraticWeightedKappa: 0.4876\n",
      " [Validation loss, Validation accuracy, Validation quadratic weighted kappa]:\n",
      " [1.3991632461547852, 0.4919164776802063, 0.4875638484954834]\n"
     ]
    }
   ],
   "source": [
    "# Evaluate model on validation set with the loss, accuracy and mean of the QWK on each mini-batch metrics\n",
    "print(\" [Validation loss, Validation accuracy, Validation quadratic weighted kappa]:\\n\",\n",
    "      final_best_model.evaluate(x_valid, y_valid))\n"
   ]
  },
  {
   "cell_type": "markdown",
   "id": "14318e62",
   "metadata": {},
   "source": [
    "<a name='5'></a>\n",
    "## 5 - Fit and Evaluate Perfomance of Tuned Model\n",
    "\n",
    "Now that we have obtained our best model with the optimal hyperparameters, for this section we will proceed to fit the model to the training set, predict the labels of the testing set, and finally assess the model's performance on the testing set.\n",
    "\n",
    "<a name='ex-4'></a>\n",
    "## Exercise 4 - Fit and Predict with Tuned Model\n",
    "\n",
    "Take the optimal model obtained in the last exercise, saved in the `final_best_model` variable, and call the `fit` method. Pass as arguments the features and labels of the training set, and set the number of epochs to 5."
   ]
  },
  {
   "cell_type": "code",
   "execution_count": 30,
   "id": "5758d4dc",
   "metadata": {},
   "outputs": [
    {
     "name": "stdout",
     "output_type": "stream",
     "text": [
      "Epoch 1/3\n",
      "1114/1114 [==============================] - 2s 970us/step - loss: 1.3913 - accuracy: 0.4901 - QuadraticWeightedKappa: 0.4658\n",
      "Epoch 2/3\n",
      "1114/1114 [==============================] - 1s 988us/step - loss: 1.3720 - accuracy: 0.4985 - QuadraticWeightedKappa: 0.4705\n",
      "Epoch 3/3\n",
      "1114/1114 [==============================] - 1s 1ms/step - loss: 1.3602 - accuracy: 0.5052 - QuadraticWeightedKappa: 0.4746\n"
     ]
    },
    {
     "data": {
      "text/plain": [
       "<keras.src.callbacks.History at 0x1df27133b90>"
      ]
     },
     "execution_count": 30,
     "metadata": {},
     "output_type": "execute_result"
    }
   ],
   "source": [
    "## START CODE HERE\n",
    "\n",
    "# Fit with the model to the training set (≈1 line)\n",
    "final_best_model.fit(x=x_train, y=y_train, epochs=3)\n",
    "\n",
    "## END CODE HERE"
   ]
  },
  {
   "cell_type": "markdown",
   "id": "1d6b528e",
   "metadata": {},
   "source": [
    "Now that we've trained our optimal model, we can proceed to generate predictions on the test dataset."
   ]
  },
  {
   "cell_type": "code",
   "execution_count": 31,
   "id": "4a194d9d",
   "metadata": {},
   "outputs": [
    {
     "name": "stdout",
     "output_type": "stream",
     "text": [
      "372/372 [==============================] - 0s 718us/step\n"
     ]
    }
   ],
   "source": [
    "# Use the best performing model to generate predictions (as probability estimates) on the test dataset.\n",
    "Test_PredProbs = final_best_model.predict(x_test)\n",
    "\n",
    "# Convert the probability estimates into label-encoded predictions, then convert back to the original set of classes.\n",
    "Test_Preds = np.argmax(Test_PredProbs, axis=1)"
   ]
  },
  {
   "cell_type": "markdown",
   "id": "7c108c0d",
   "metadata": {},
   "source": [
    "<a name='5-1'></a>\n",
    "## 5.1 - Evaluating Tuned Model Perfomance\n",
    "\n",
    "In this final section, we'll employ functions from both scikit-learn and scikit-plot libraries to visualize and evaluate the performance of our tuned model on the testing set. It's worth noting that, as mentioned earlier, all the following metrics except for the Quadratic Weighted Kappa (QWK) categorize predictions in a 'one-vs-rest' fashion, and therefore, they may not accurately reflect the difficulty level in correctly classifying each applicant with the exact rating they were given. Execute the next code cells to display the reports.\n",
    "\n",
    "### Classification Reports (Loss/QuadraticWeightedKappa/Accuracy)¶"
   ]
  },
  {
   "cell_type": "code",
   "execution_count": 32,
   "id": "04aac7ea",
   "metadata": {},
   "outputs": [
    {
     "name": "stdout",
     "output_type": "stream",
     "text": [
      "372/372 [==============================] - 0s 841us/step - loss: 1.3793 - accuracy: 0.4920 - QuadraticWeightedKappa: 0.4637\n",
      " [Validation loss, Validation accuracy, Validation QWK Average]:\n",
      " [1.379319429397583, 0.4920434355735779, 0.46366095542907715]\n"
     ]
    }
   ],
   "source": [
    "# Evaluate model on testing set with the loss, accuracy and mean of the QWK on each mini-batch metrics\n",
    "print(\" [Validation loss, Validation accuracy, Validation QWK Average]:\\n\",\n",
    "      final_best_model.evaluate(x_test, y_test))"
   ]
  },
  {
   "cell_type": "markdown",
   "id": "b6e1f4b7",
   "metadata": {},
   "source": [
    "We can also evaluate our model's performance using the Quadratic Weighted Kappa metric over the entire dataset instead of as an average of its values on each mini-batch, as we just did.\n"
   ]
  },
  {
   "cell_type": "code",
   "execution_count": 33,
   "id": "15e38dc3",
   "metadata": {},
   "outputs": [
    {
     "name": "stdout",
     "output_type": "stream",
     "text": [
      "Quadratic Weighted Kappa (QWK)\n",
      "0.4733153 \n",
      "\n"
     ]
    }
   ],
   "source": [
    "# Evaluate model with the QWK metrics\n",
    "print(\"Quadratic Weighted Kappa (QWK)\")\n",
    "print(QuadraticWeightedKappa(y_test, Test_PredProbs).numpy(),\"\\n\")"
   ]
  },
  {
   "cell_type": "markdown",
   "id": "8270c45a",
   "metadata": {},
   "source": [
    "\n",
    "\n",
    "Now, before we display the next reports, we'll first need to convert the encoded labels back to the original 1 to 8 range."
   ]
  },
  {
   "cell_type": "code",
   "execution_count": 34,
   "id": "94165f40",
   "metadata": {},
   "outputs": [],
   "source": [
    "# Convert back to the original set of classes.\n",
    "Test_Preds = le.inverse_transform(Test_Preds)\n",
    "y_test = le.inverse_transform(y_test)"
   ]
  },
  {
   "cell_type": "markdown",
   "id": "03cbc1e4",
   "metadata": {},
   "source": [
    "### Classification Reports (Precisions/Recalls/F1-Scores)"
   ]
  },
  {
   "cell_type": "code",
   "execution_count": 35,
   "id": "68c9a49d",
   "metadata": {},
   "outputs": [
    {
     "name": "stdout",
     "output_type": "stream",
     "text": [
      "              precision    recall  f1-score   support\n",
      "\n",
      "           1       0.37      0.26      0.30      1241\n",
      "           2       0.44      0.22      0.29      1310\n",
      "           3       0.00      0.00      0.00       203\n",
      "           4       0.29      0.02      0.03       286\n",
      "           5       0.55      0.30      0.39      1086\n",
      "           6       0.37      0.40      0.39      2247\n",
      "           7       0.39      0.26      0.31      1606\n",
      "           8       0.57      0.92      0.71      3898\n",
      "\n",
      "    accuracy                           0.49     11877\n",
      "   macro avg       0.37      0.30      0.30     11877\n",
      "weighted avg       0.46      0.49      0.45     11877\n",
      "\n"
     ]
    },
    {
     "name": "stderr",
     "output_type": "stream",
     "text": [
      "C:\\ProgramData\\anaconda3\\Lib\\site-packages\\sklearn\\metrics\\_classification.py:1469: UndefinedMetricWarning: Precision and F-score are ill-defined and being set to 0.0 in labels with no predicted samples. Use `zero_division` parameter to control this behavior.\n",
      "  _warn_prf(average, modifier, msg_start, len(result))\n",
      "C:\\ProgramData\\anaconda3\\Lib\\site-packages\\sklearn\\metrics\\_classification.py:1469: UndefinedMetricWarning: Precision and F-score are ill-defined and being set to 0.0 in labels with no predicted samples. Use `zero_division` parameter to control this behavior.\n",
      "  _warn_prf(average, modifier, msg_start, len(result))\n",
      "C:\\ProgramData\\anaconda3\\Lib\\site-packages\\sklearn\\metrics\\_classification.py:1469: UndefinedMetricWarning: Precision and F-score are ill-defined and being set to 0.0 in labels with no predicted samples. Use `zero_division` parameter to control this behavior.\n",
      "  _warn_prf(average, modifier, msg_start, len(result))\n"
     ]
    }
   ],
   "source": [
    "print(classification_report(y_test, Test_Preds))"
   ]
  },
  {
   "cell_type": "markdown",
   "id": "7d55bf5a",
   "metadata": {},
   "source": [
    "### Confusion Matrix"
   ]
  },
  {
   "cell_type": "code",
   "execution_count": 36,
   "id": "ede9a435",
   "metadata": {
    "scrolled": true
   },
   "outputs": [
    {
     "data": {
      "text/plain": [
       "<Axes: title={'center': 'Confusion Matrix'}, xlabel='Predicted label', ylabel='True label'>"
      ]
     },
     "execution_count": 36,
     "metadata": {},
     "output_type": "execute_result"
    },
    {
     "data": {
      "image/png": "[encoded data removed]",
      "text/plain": [
       "<Figure size 640x480 with 2 Axes>"
      ]
     },
     "metadata": {},
     "output_type": "display_data"
    }
   ],
   "source": [
    "plot_confusion_matrix(y_test, Test_Preds)"
   ]
  },
  {
   "cell_type": "markdown",
   "id": "0fe352fe",
   "metadata": {},
   "source": [
    "### ROC Curve\n",
    "The plot below displays the ROC curves for our model. This curve is a graph of the true positive rate versus the false positive rate for each class.\n"
   ]
  },
  {
   "cell_type": "code",
   "execution_count": 37,
   "id": "aaff975e",
   "metadata": {},
   "outputs": [
    {
     "data": {
      "text/plain": [
       "<Axes: title={'center': 'ROC Curves'}, xlabel='False Positive Rate', ylabel='True Positive Rate'>"
      ]
     },
     "execution_count": 37,
     "metadata": {},
     "output_type": "execute_result"
    },
    {
     "data": {
      "image/png": "[encoded data removed]",
      "text/plain": [
       "<Figure size 640x480 with 1 Axes>"
      ]
     },
     "metadata": {},
     "output_type": "display_data"
    }
   ],
   "source": [
    "# Display ROC Curves\n",
    "plot_roc(y_test, Test_PredProbs)"
   ]
  },
  {
   "cell_type": "markdown",
   "id": "819a5f8d",
   "metadata": {},
   "source": [
    "We can observe that the model has a wide range of AUC values against each class, indicating varying degrees of sensitivity/specificity across the dataset. This variability makes sense considering the data imbalance present. The data imbalance, as evidenced by the histogram of labels displayed earlier, also explains the differences in accuracy for each class displayed by the confusion matrix.\n",
    "\n",
    "You might initially perceive the model performance as low. However, it's important to consider that the baseline for this project is the performance of the best machine learning and statistical learning models submitted as solutions to the Kaggle Competition for which this dataset was originally released. You can explore these results here [[1]](#R-1)[[10]](#R-10). Within this context, our model's performance was quite good.\n",
    "\n",
    "Now, there are many more Keras Tuner features available for exploration, which you can incorporate into your future deep learning projects. However, by now, you've established a solid foundation, including the structure, methods, and implementations for your risk rating-related actuarial or financial classification tasks!"
   ]
  },
  {
   "cell_type": "markdown",
   "id": "392606c1",
   "metadata": {},
   "source": [
    "<a name='6'></a>  \n",
    "## 6 - Bibliography\n",
    "\n",
    "<a name='R-1'></a>  \n",
    "1. Kaggle. (n.d.). Prudential Life Insurance Assessment: Evaluation. Retrieved from https://www.kaggle.com/competitions/prudential-life-insurance-assessment/overview/evaluation.\n",
    "<a name='R-2'></a>  \n",
    "2. Keras Tuner documentation for tuners. (n.d.). Retrieved from https://keras.io/api/keras_tuner/tuners/.\n",
    "<a name='R-3'></a>  \n",
    "3. Keras API documentation for metrics. (n.d.). Retrieved from https://keras.io/api/metrics/.\n",
    "<a name='R-4'></a>  \n",
    "4. Keras API documentation for losses. (n.d.). Retrieved from https://keras.io/api/losses/.\n",
    "<a name='R-5'></a>  \n",
    "5. Keras Tuner documentation for objective. (n.d.). Retrieved from https://keras.io/api/keras_tuner/tuners/objective/.\n",
    "<a name='R-6'></a>  \n",
    "6. Keras: Creating custom metrics. (n.d.). Retrieved from https://keras.io/api/metrics/#creating-custom-metrics.\n",
    "<a name='R-7'></a>  \n",
    "7. Keras. (2021, October 27). Tailoring the search space. Retrieved from https://keras.io/guides/keras_tuner/tailor_the_search_space/.\n",
    "<a name='R-8'></a>  \n",
    "8. Keras API documentation for Activations. Retrieved from https://keras.io/api/layers/activations/.\n",
    "<a name='R-9'></a>  \n",
    "9. Keras API documentation for Hyperparameters. Retrieved from https://keras.io/api/keras_tuner/hyperparameters/.\n",
    "<a name='R-10'></a>  \n",
    "10. Kaggle. (n.d.). Machine Learning for Risk Classification. Retrieved from https://www.kaggle.com/code/karansarpal/machine-learning-for-risk-classification-ks.\n"
   ]
  }
 ],
 "metadata": {
  "kernelspec": {
   "display_name": "Python 3 (ipykernel)",
   "language": "python",
   "name": "python3"
  },
  "language_info": {
   "codemirror_mode": {
    "name": "ipython",
    "version": 3
   },
   "file_extension": ".py",
   "mimetype": "text/x-python",
   "name": "python",
   "nbconvert_exporter": "python",
   "pygments_lexer": "ipython3",
   "version": "3.11.5"
  }
 },
 "nbformat": 4,
 "nbformat_minor": 5
}
