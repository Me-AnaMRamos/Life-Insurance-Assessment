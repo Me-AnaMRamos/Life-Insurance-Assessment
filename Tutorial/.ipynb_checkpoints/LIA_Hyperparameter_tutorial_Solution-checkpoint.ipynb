{
 "cells": [
  {
   "cell_type": "markdown",
   "id": "a0615bae",
   "metadata": {},
   "source": [
    "# Model Building and Hyperparameter tuning\n",
    "### By: Ana María Ramos \n",
    "### Advisor: Arles Rodríguez\n",
    "### Universidad Nacional de Colombia\n",
    "\n",
    "In this notebook, we'll explore the process of building a Multilayer Perceptron (MLP), a type of Feed Forward Neural Network which generalizes a Perceptron to a model with at least one hidden layer, and then use it to predict risk ratings for life insurance applicants. To accomplish this, we'll utilize the TF Keras Sequential API for constructing the risk classifier, and leverage the TF KerasTuner API for efficient hyperparameter tuning of the model.\n",
    "\n",
    "The dataset we'll work with was initially released for a Kaggle competition sponsored by the Prudential Financial company [[1]](#R-1). It encompasses more than a hundred variables describing various attributes of life insurance applicants. Our objective is to predict the \"Response\" variable for each applicant in the test set. \"Response\" represents an ordinal measure of risk categorized into 8 levels.\n",
    "\n",
    "\n",
    "**By the end of this lab, you'll be able to:**\n",
    "\n",
    "- Construct and train a Multilayer Perceptron Neural Network in Keras TensorFlow for a multiclass classification problem.\n",
    "- Perform hyperparameter tuning of your Keras Neural Network models through disctinct automated techniques such as Grid Search, Random Search, and Hyperband.\n",
    "- Utilize customized metrics for the hyperparameter tuning process.\n",
    "- Familiarize yourself with the Quadratic Weighted Kappa metric tailored for ordinal classification tasks and integrate it into your projects.\n",
    "- Apply your knowledge of neural network models to address a range of actuarial and financial tasks related to risk classification."
   ]
  },
  {
   "cell_type": "markdown",
   "id": "9f679a6f",
   "metadata": {},
   "source": [
    "## Table of Content\n",
    "\n",
    "- [1 - Packages](#1)\n",
    "- [2 - Load and Explore the Data](#2)\n",
    "- [3 - Build model and tune hyperparamters](#3)\n",
    "    - [3.1 - Build the Model and Define the Hyperparameters](#3-1)\n",
    "        - [3.1.1 - Special case for mini-batch size tuning](#3-1-1)\n",
    "        - [Exercise 1 - Defining Hyperparameters within the Model](#ex-1)\n",
    "    - [3.2 - Search for the Best Hyperparameters](#3-2)\n",
    "        - [Exercise 2 - Search for the Best Hyperparameters](#ex-2)\n",
    "- [4 - Expanded Keras Tuner Features](#4)\n",
    "    - [4.1 - Use Custom Metrics](#4-1)\n",
    "    - [4.2 - Tailor the Search Space](#4-2)\n",
    "    - [Exercise 3 - Prioritized Hyperparameter Tuning with Custom Metric](#ex-3)\n",
    "- [5 - Fit and Evaluate Tuned Model](#5)\n",
    "    - [Exercise 4 - Fit and Predict with Tuned Model](#ex-4)\n",
    "    - [5.1 - See Tuned Model Perfomance](#ex-3)\n",
    "- [6 - Bibliography](#6)\n",
    "\n",
    "<a name='1'></a>\n",
    "## 1 - Packages\n",
    "\n",
    "Let's start by importing all the necessary libraries for building our neural network model, tuning the hyperparameters, and evaluating the model's performance."
   ]
  },
  {
   "cell_type": "code",
   "execution_count": 1,
   "id": "7b7fbbee",
   "metadata": {},
   "outputs": [
    {
     "name": "stdout",
     "output_type": "stream",
     "text": [
      "TensorFlow version: 2.13.0\n"
     ]
    }
   ],
   "source": [
    "import nbimporter\n",
    "import LIA_Tutorial_Utils\n",
    "import io\n",
    "import sys\n",
    "import math\n",
    "import numpy as np # linear algebra\n",
    "import pandas as pd # data visualization, CSV file I/O (e.g. pd.read_csv)\n",
    "import matplotlib.pyplot as plt # graphs/plotting\n",
    "import seaborn as sns\n",
    "import tensorflow as tf\n",
    "from tensorflow import keras\n",
    "import keras_tuner as kt\n",
    "from sklearn.preprocessing import LabelEncoder\n",
    "from scikitplot.metrics import plot_roc, plot_confusion_matrix\n",
    "from sklearn.metrics import classification_report, balanced_accuracy_score\n",
    "from sklearn.isotonic import IsotonicRegression\n",
    "from sklearn.metrics import log_loss\n",
    "print(\"TensorFlow version:\", tf.__version__)"
   ]
  },
  {
   "cell_type": "markdown",
   "id": "4ef0ffef",
   "metadata": {},
   "source": [
    "<a name='2'></a>\n",
    "## 2 - Load and Explore the Data\n",
    "\n",
    "Execute the cells below in order to load and generate a summary of the data."
   ]
  },
  {
   "cell_type": "code",
   "execution_count": null,
   "id": "77be00b1",
   "metadata": {},
   "outputs": [],
   "source": [
    "# Load the data\n",
    "x_full, y_full, x_train, x_valid, x_test, y_train, y_valid, y_test= LIA_Tutorial_Utils.load_data()"
   ]
  },
  {
   "cell_type": "code",
   "execution_count": null,
   "id": "ca443b4d",
   "metadata": {},
   "outputs": [],
   "source": [
    "# Review the main characteristics of the dataset features\n",
    "print(\"Data Set Features Description\\n------------------------------\\n\", x_full.dtypes)\n",
    "x_full.describe()"
   ]
  },
  {
   "cell_type": "code",
   "execution_count": null,
   "id": "128efdbf",
   "metadata": {},
   "outputs": [],
   "source": [
    "# Display the features of the first 5 data points\n",
    "x_full.head()"
   ]
  },
  {
   "cell_type": "markdown",
   "id": "24ffed2c",
   "metadata": {},
   "source": [
    "We have approximately 59,000 data points describing life insurance applicants' information related to age, employment status, medical conditions, and other factors. The dataset has already been preprocessed and normalized following the precedures in [10](#R-10), with the independent variables being now of type float. If you're interested in obtaining the raw data you can refer to [1](#R-1).  \n",
    "\n",
    "Let's now take a look at the response variable of our dataset."
   ]
  },
  {
   "cell_type": "code",
   "execution_count": null,
   "id": "d83fb890",
   "metadata": {},
   "outputs": [],
   "source": [
    "# Review the main characteristics of the dataset labels (risk ratings)\n",
    "print(\"Data Set Labels Description: \\n\\n\", y_full.dtypes)\n",
    "y_full.describe()"
   ]
  },
  {
   "cell_type": "code",
   "execution_count": null,
   "id": "dc43fa35",
   "metadata": {},
   "outputs": [],
   "source": [
    "# Display first 5 values of applicants' risk ratings\n",
    "y_full.head()"
   ]
  },
  {
   "cell_type": "code",
   "execution_count": null,
   "id": "7401e90d",
   "metadata": {},
   "outputs": [],
   "source": [
    "# Visualize the distribution of applicants' risk ratings in the full dataset.\n",
    "plt.hist(y_full['Response'], bins=sorted(y_full['Response'].unique()), color = \"hotpink\")\n",
    "plt.xlabel('Response')\n",
    "plt.ylabel('# of Applicants')\n",
    "plt.title('Response Distribution')"
   ]
  },
  {
   "cell_type": "markdown",
   "id": "5a487f5c",
   "metadata": {},
   "source": [
    "The histogram above shows the full dataset's distribution of applicants by their determined risk ratings (i.e. Response) showcasing ratings ranging from 1 to 8. We can see that our data suffers from class imbalance, with rating 8 being the most prevalent while ratings 3 and 4 are the least represented.\n",
    "\n",
    "Now, an important consideration when using the Keras API is that it requires categorical variables to be encoded as integers ranging from 0 to k-1, where k represents the number of classes. In our case, since we have 8 ratings, we'll need to encode our response variable to range from 0 to 7 before proceeding with the model development."
   ]
  },
  {
   "cell_type": "code",
   "execution_count": null,
   "id": "76099cb0",
   "metadata": {},
   "outputs": [],
   "source": [
    "# Label-encode each dataset for compatibility with keras TensorFlow API\n",
    "le = LabelEncoder()\n",
    "# Convert each set of class labels (1-8) into encoded labels (0-7).\n",
    "y_train = le.fit_transform(y_train)\n",
    "y_valid = le.transform(y_valid)\n",
    "y_test = le.transform(y_test)"
   ]
  },
  {
   "cell_type": "code",
   "execution_count": null,
   "id": "652f3fe3",
   "metadata": {},
   "outputs": [],
   "source": [
    "keras.utils.set_random_seed(5)"
   ]
  },
  {
   "cell_type": "markdown",
   "id": "40ebb94b",
   "metadata": {},
   "source": [
    "<a name='3'></a>\n",
    "## 3 - Build model and tune hyperparameters\n",
    "\n",
    "In this section, we'll delve into the process of building a model and tuning hyperparameters using the Keras Tuner API. Subsequently, we'll construct a multilayer perceptron model for our risk classification task and proceed to tune its respective hyperparameters using random search. We'll adopt a straightforward approach by simultaneously tuning the number of layers, units per layer, activation function of the hidden layers, learning rate, and mini-batch size hyperparameters, optimizing with respect to the accuracy metric.\n",
    "\n",
    "## 3.1 - Build the Model and Define the Hyperparameters\n",
    "\n",
    "In this tutorial, we'll utilize the TensorFlow Keras Sequential API to construct our model. This API allows you to build layer by layer, making it particularly suitable for models with precisely one input tensor and one output tensor per layer. To optimize the hyperparameters using the Keras Tuner library, we'll define and build our Keras Sequential model within the `build` method of a subclass of the Keras Tuner `HyperModel` class. Below is a skeletal representation illustrating the code structure:\n",
    "\n",
    "```python\n",
    "class MyHyperModel(kt.HyperModel):\n",
    "    def build(self, hp):        \n",
    "\n",
    "        model = keras.Sequential()  # Initialize Keras model here                        \n",
    "        model.add(...)              # Build the model \n",
    "        ...                         \n",
    "        model.compile(...)          # Compile the model\n",
    "        \n",
    "        return model                # Return the compiled model                                       \n",
    "```    \n",
    "\n",
    "To define the hyperparameters, use the `hp` parameter of the build function, which is passed as a `HyperParameters` class instance during execution. The method of the HyperParameters class to use depends on the type of the hyperparameter to be tuned.\n",
    "For example, to tune the number of units in some hidden layer, we use the `HyperParameters.Int()` method:\n",
    "\n",
    "\n",
    "```python\n",
    "\n",
    "class MyHyperModel(kt.HyperModel):\n",
    "   def build(self, hp):\n",
    "    \n",
    "       model = keras.Sequential()      \n",
    "           \n",
    "       # Add hidden layer\n",
    "       model.add(keras.layers.Dense(             \n",
    "           # Make the number of units a hyperparameter that can take values \n",
    "           # in the range [12, 13, 14, ..., 88, 89, 90], inclusive. \n",
    "           units = hp.Int('units', min_value=12, max_value=90), \n",
    "           activation = 'relu'))                                         \n",
    "\n",
    "       # Add output layer\n",
    "       model.add(Dense(units=1, activation='sigmoid'))\n",
    "\n",
    "    \n",
    "       # Compile the model \n",
    "       model.compile(optimizer = 'adam',                       \n",
    "                     loss = keras.losses.BinaryCrossentropy(), \n",
    "                     metrics = ['accuracy'])  \n",
    "          \n",
    "       return model  \n",
    "     \n",
    "```\n",
    "We can also dynamically add hidden layers based on a hyperparameter:\n",
    "\n",
    "```python\n",
    "\n",
    "class MyHyperModel(kt.HyperModel):\n",
    "    def build(self, hp):\n",
    "        \n",
    "        model = keras.Sequential()  \n",
    "        \n",
    "        # Define a hyperparameter for the number of hidden layers\n",
    "        # Try with [6, 9, 12] as possible values for the hyperparameter\n",
    "        hp_layers = hp.Int(\"n_layers\", min_value=6, max_value=13, step=3) \n",
    "        \n",
    "        # Add hidden layers dynamically based on the hyperparameter\n",
    "        for i in range(hp_layers):\n",
    "             model.add(keras.layers.Dense(units=20, activation='relu'))\n",
    "        \n",
    "        # Finish building and compiling model         \n",
    "        model.add(Dense(units=1, activation='sigmoid'))\n",
    "        \n",
    "        model.compile(optimizer = 'adam',                       \n",
    "                      loss = keras.losses.BinaryCrossentropy(), \n",
    "                      metrics = ['accuracy'])  \n",
    "\n",
    "        return model  \n",
    "    \n",
    "```\n",
    "\n",
    "The `HyperParameters.Int()` method, as demonstrated above, enables you to specify the name of the integer hyperparameter along with its minimum and maximum values, and optionally a step size to define the search grid for the hyperparameter. By default, it employs linear sampling, but you have the flexibility to specify the type of sampling you prefer.\n",
    "\n",
    "This method provides an effective means to tune all your integer hyperparameters. However, for other types of hyperparameters, such as activation functions or learning rates, the `HyperParameters` class offers additional methods [9](#R-9): \n",
    "\n",
    "<a name='hyper_meth'></a>\n",
    "- `HyperParameters.Int(name, min_value, max_value, step=None, sampling=\"linear\", default, ...)`: Integer hyperparameter.\n",
    "- `HyperParameters.Float(name, min_value, max_value, step=None, sampling=\"linear\", default,...)`: Floating-point value hyperparameter.\n",
    "- `HyperParameters.Boolean(name, default, ...) `: Boolean hyperparameter (choice between True and False).\n",
    "- `HyperParameters.Choice(name, values, ordered=None, default, ...)`: Choice of one value among a predefined set of possible values passed within a list.\n",
    "\n",
    "The default arguments mentioned above are applicable when we intend to tune only specific hyperparameters while leaving the rest with fixed values, as elaborated further in section [4.2](#4-2) of this tutorial.\n",
    "\n",
    "<a name='3-1-1'></a>\n",
    "## 3.1.1 - Special case for mini-batch size tuning\n",
    "\n",
    "The mini-batch size is a hyperparameter that has been consistently found to be crucial to optimize. However, it cannot be directly modified within the build method of the class because, unlike other hyperparameters, it is outside the scope of the model building implementation. To tune it, we need to override the fit method of the parent `HyperModel` class. By doing so, we can ensure that the mini-batch size is passed as an argument to the `model.fit` method. Don't fret, though! The code required for this adjustment is straightforward and illustrated in the following snippet.\n",
    "\n",
    "\n",
    "```python\n",
    "class MyHyperModel(kt.HyperModel):\n",
    "    def build(self, hp):\n",
    "        model = keras.Sequential()                             # Define model      \n",
    "        ...                                                    # Build and compile model    \n",
    "    \n",
    "        return model                                           # Return your compiled model\n",
    "    \n",
    "    def fit(self, hp, model, *args, **kwargs):\n",
    "           return model.fit(\n",
    "               *args,\n",
    "               # Define the \"batch_size\" hyperparameter here\n",
    "               batch_size = hp.Choice(\"batch_size\", [32, 64, 128, 256]), \n",
    "               **kwargs,\n",
    "           )\n",
    "```"
   ]
  },
  {
   "cell_type": "markdown",
   "id": "42086451",
   "metadata": {},
   "source": [
    "<a name='ex-1'></a>\n",
    "## Exercise 1 - Defining Hyperparameters within the Model\n",
    "\n",
    "In this exercise you'll construct a multilayer perceptron for an eight-class classifier. We'll define several hyperparameters to be  fine-tuned later, including the learning rate, mini-batch size, number of hidden layers, their activation function, and the number of units in each layer. For the output layer, we'll use the softmax activation function, as it's standard in multiclassification problems. The basic code structure has already been implemented for you, and you just have to complete the missing parts.\n",
    "\n",
    "Here are the specifications you need to consider for each hyperparameter. Remember to use the appropiate `Hyperparameters` [method](#hyper_meth) for each case:\n",
    "\n",
    "- **Number of hidden layers:** Name this parameter `'hidden_layers'`. Set the search space for this parameter to include all integers ranging from 1 to 5. \n",
    "\n",
    "- **Number of units in each layer:** Name the parameter representing the number of units of the ith layer `'units_i'`. Set the search space for this parameter to include integers ranging from 15, to 120, with a step of 5.\n",
    "\n",
    "- **Activation function for hidden layers:** Name this hyperparameter `'layers_activation'`. Set the tuner to choose between the `'relu'`, `'sigmoid'`, and `'tanh'` activation functions. [8](#R-8) \n",
    "\n",
    "- **Learning rate:** Name this hyperparamter `'learning_rate'`. Set the search space of this hyperparamter to be range between 0.01 and 0.001 using logarithmic sampling. The string representation for this is type of sampling is `'log'`.\n",
    "\n",
    "- **Mini-batch size:** Name this hyperparameter `'batch_size'`. Set the tuner to choose between the values 16, 32, 64, 128, 256,  and 512. Remember the format to pass these values for the `Hyperparameters.Choice()` method is within a list.\n",
    "\n",
    " **Note:** The choice of the **cross entropy loss function** in the ```model.compile()``` method for your classification tasks depends on how the labels are encoded. If the class variable of the k-class classifier is encoded by an integer ranging from 0 to k-1, then use the `keras.losses.SparseCategoricalCrossentropy()` loss function. Otherwise, if it's encoded in one-hot representation, i.e., by a k-length vector where the entry corresponding with the class is 1 and all other entries are zero, then use the `keras.losses.CategoricalCrossentropy()` loss function. You can refer back to the [2 - Load and Explore the Data](#2) section of this notebook to see the way the response variable is encoded for the life insurance applicants.\n"
   ]
  },
  {
   "cell_type": "code",
   "execution_count": 9,
   "id": "ae58318f",
   "metadata": {},
   "outputs": [],
   "source": [
    "class InitialHyperModel(kt.HyperModel):\n",
    "    def build(self, hp):\n",
    "        \n",
    "        model = keras.Sequential()\n",
    "        \n",
    "        ## START CODE HERE\n",
    "        \n",
    "        # Define the hidden layers hyperparameter and save it in the hp_layers variable (≈1 line)\n",
    "        \n",
    "        hp_layers = hp.Int('hidden_layers', 1, 5)\n",
    "          \n",
    "        # Define the activation function hyperparameter and save it in the hp_activation variable (≈1 line)\n",
    "        \n",
    "        hp_activation = hp.Choice('activations', ['relu', 'sigmoid', 'tanh'])\n",
    "        \n",
    "        # Tune the learning rate for the optimizer and save it in the hp_learning_rate variable (≈1 line)\n",
    "        \n",
    "        hp_learning_rate = hp.Float(\"learning_rate\", min_value=1e-4, max_value=1e-2, sampling=\"linear\")\n",
    "          \n",
    "        ## END CODE HERE\n",
    "\n",
    "        # Add hidden layers dynamically based on the hyperparameter\n",
    "        for i in range(1,1+hp_layers):\n",
    "            \n",
    "             model.add(\n",
    "                 keras.layers.Dense(\n",
    "                     \n",
    "                     ## START CODE HERE\n",
    "                     \n",
    "                     # Tune the number of units in each hidden layer (≈1 line)\n",
    "                     # units=hp.Int('units_'+str(i),...),   \n",
    "                     \n",
    "                     units=hp.Int('units_'+str(i), min_value=15, max_value=120, step=5),\n",
    "                     \n",
    "                     # Set activation as the hyperparameter activation variable (≈1 line)\n",
    "                     \n",
    "                     activation=hp_activation,\n",
    "                     \n",
    "                     ## END CODE HERE\n",
    "                 )\n",
    "             )\n",
    "        \n",
    "        # Add output layer of the 8-class classifier network\n",
    "        model.add(keras.layers.Dense(8, activation='softmax'))\n",
    "     \n",
    "        model.compile(optimizer=keras.optimizers.Adam(learning_rate=hp_learning_rate),\n",
    "                      ## START CODE HERE\n",
    "                      \n",
    "                      # Specify the loss function for the model (≈1 line)\n",
    "                      # loss=...,   \n",
    "                      \n",
    "                      loss = keras.losses.SparseCategoricalCrossentropy(),\n",
    "                      \n",
    "                      ## END CODE HERE\n",
    "\n",
    "                      metrics=['accuracy'])  \n",
    "    \n",
    "        return model\n",
    "    \n",
    "    \n",
    "    def fit(self, hp, model, *args, **kwargs):\n",
    "            return model.fit(\n",
    "                *args,\n",
    "                ## START CODE HERE\n",
    "                \n",
    "                # Set batch size as a hyperparameter (≈1 line)\n",
    "                batch_size=hp.Choice(\"batch_size\", [16, 32, 64, 128, 256, 512]),\n",
    "                \n",
    "                ## END CODE HERE\n",
    "                **kwargs,\n",
    "            )\n",
    "               "
   ]
  },
  {
   "cell_type": "markdown",
   "id": "8bec88b4",
   "metadata": {},
   "source": [
    "<a name='3-2'></a>\n",
    "## 3.2 - Search for the Best hyperparameters\n"
   ]
  },
  {
   "cell_type": "markdown",
   "id": "775f1835",
   "metadata": {},
   "source": [
    "Now, let's go through the process of searching for the optimized hyperparameters of our model, which were defined within the subclass of the `keras_tuner.HyperModel` class. The Keras Tuner library provides several tuning methods for our search, each implemented as a subclass of the `Tuner()` class. These tuning methods include the GridSearch Tuner, RandomSearch Tuner, BayesianOptimization Tuner, and Hyperband Tuner. [2](#R-2)\n",
    "\n",
    "Once you've settled on your preferred tuning method, the next step is to instantiate the corresponding Keras Tuner class. You'll need to specify the subclass of the basic `HyperModel` class where your model is defined, along with an objective metric against which the hyperparameter optimization will be performed. Below is an example of instantiating the GridSearch Tuner class to tune the hyperparameters of a model defined in the subclass `MyHyperModel()`:\n",
    "\n",
    "\n",
    "```python\n",
    "\n",
    "class MyHyperModel(kt.HyperModel):\n",
    "    def build(self, hp):        \n",
    "        \n",
    "        model = keras.Sequential()                             \n",
    "        model.add(...) # Model construction\n",
    "        model.compile(...) # Model compilation\n",
    "        \n",
    "        return model   \n",
    "\n",
    "tuner = keras_tuner.GridSearch(\n",
    "    hypermodel = MyHyperModel(), # Class where the model was built\n",
    "    objective = \"val_loss\",      # The metric to optimize\n",
    "    max_trials = none,           # Maximum number of trials (hyperparameter combinations) to test\n",
    "    executions_per_trial = 2,    # Number of executions per trial\n",
    "    overwrite = True,            # Whether to overwrite the results of a previous run\n",
    "    directory = None,            # Directory to save logs and checkpoints\n",
    "    project_nam e= None,         # Name of the project (if saved)\n",
    ")\n",
    "```\n",
    "Here's a description of the main arguments:\n",
    "- **hypermodel**: The subclass of the `HyperModel` class where your model is defined.\n",
    "- **objective**: The metric to optimize, in this case, minimizing validation loss. Common strings for this parameter include **'val_loss'** and **'val_accuracy'**, but you can also use any Keras built-in metric [3](#R-3) or loss [4](#R-4) name, such as 'mean_squared_error'. Add 'val_' at the beginning of the metric name string to specify that the metric to optimize is to be evaluated on the validation set rather than the training set.  \n",
    "  **Note**: The metric can be passed also as a ```keras_tuner.Objective``` instance [5](#R-5), as we'll see an example of later in this tutorial. We can also provide a list of metrics, and the sum of each with its corresponding sign will be minimized.\n",
    "- **max_trials**: The maximum number of different hyperparameter combinations to try. If left unspecified, it runs until the search space is exhausted.\n",
    "- **executions_per_trial**: The number of executions (training runs) per trial, allowing for different weight initializations for each set of hyperparameter values.\n",
    "\n",
    "\n",
    "It's important to note that in this tutorial, we'll always optimize our hyperparameters with respect to the validation set, as this was the purpose of splitting it initially. Therefore, any metric or loss string to be passed to the objective argument of the tuners should be in the format `f\"val_{name_of_metric}\"`.\n",
    "\n",
    "All tuners share similar initialization arguments and default values, although some of them may vary from tuner to tuner. After instantiating the Tuner object, you can access various methods to manage the optimization process:\n",
    "\n",
    "<a name='hyper_func'></a>\n",
    "- ```tuner.search_space_summary()```: Displays the summary of the hyperparameter search space.\n",
    "- ```tuner.search()```: Performs the hyperparameter search using the corresponding tuning method.\n",
    "- ```tuner.get_best_hyperparameters()```: Retrieves the best hyperparameters found during the search.\n",
    "- ```tuner.get_best_models()```: Obtains the models with the optimized hyperparameters.\n",
    "\n",
    "\n",
    "Once you have your optimized model, you can proceed to fit it, evaluate it, and make predictions just like with any regular Keras model."
   ]
  },
  {
   "cell_type": "markdown",
   "id": "ac2bb9b2",
   "metadata": {},
   "source": [
    "<a name='ex-2'></a>\n",
    "## Exercise 2 - Fine-tuning the Hyperparameters\n",
    "\n",
    "In this exercise, you will perform a random search for the hyperparameters defined in the model built in the previous exercise and prepare your optimized model for the fitting and predicting steps. \n",
    "\n",
    "First, start by instantiating the RandomSearch tuner class with the following specifications:\n",
    "\n",
    "- Set the hypermodel argument to be the class `InitialHyperModel()`,  where you built the model in the previous exercise.\n",
    "- Set the objective metric to be the accuracy of the validation set.\n",
    "- Limit the search to a maximum of 6 trials. "
   ]
  },
  {
   "cell_type": "code",
   "execution_count": 10,
   "id": "32428e56",
   "metadata": {},
   "outputs": [],
   "source": [
    "initial_tuner = kt.RandomSearch(\n",
    "    \n",
    "## START CODE HERE\n",
    "    \n",
    "# Specify the required arguments for the tuner (≈3 lines)\n",
    "# hypermodel =...,    \n",
    "# obective =...,    \n",
    "# max_trials =...,    \n",
    "\n",
    "InitialHyperModel(),\n",
    "objective = 'val_accuracy',\n",
    "max_trials = 5,\n",
    "    \n",
    "## END CODE HERE\n",
    "    \n",
    "overwrite = True,        \n",
    "seed = 5)"
   ]
  },
  {
   "cell_type": "markdown",
   "id": "ea6ae26c",
   "metadata": {},
   "source": [
    "Now let's examine the hyperparameters search space of the `initial_tuner` you just initialized."
   ]
  },
  {
   "cell_type": "code",
   "execution_count": 11,
   "id": "c405751d",
   "metadata": {},
   "outputs": [
    {
     "name": "stdout",
     "output_type": "stream",
     "text": [
      "\u001b[92mSearch space summary\n",
      "Default search space size: 4\n",
      "hidden_layers (Int)\n",
      "{'default': None, 'conditions': [], 'min_value': 1, 'max_value': 5, 'step': 1, 'sampling': 'linear'}\n",
      "activations (Choice)\n",
      "{'default': 'relu', 'conditions': [], 'values': ['relu', 'sigmoid', 'tanh'], 'ordered': False}\n",
      "learning_rate (Float)\n",
      "{'default': 0.0001, 'conditions': [], 'min_value': 0.0001, 'max_value': 0.01, 'step': None, 'sampling': 'linear'}\n",
      "units_1 (Int)\n",
      "{'default': None, 'conditions': [], 'min_value': 15, 'max_value': 120, 'step': 5, 'sampling': 'linear'}\n",
      "\n",
      "Search space matches expected.\n",
      "\n"
     ]
    }
   ],
   "source": [
    "# Code to evaluate, do NOT modify\n",
    "stdout = sys.stdout\n",
    "sys.stdout = io.StringIO()\n",
    "\n",
    "### START CODE HERE\n",
    "\n",
    "## Display the hyperparameters to be tuned\n",
    "## initial_tuner.search_... (≈1 line)\n",
    "initial_tuner.search_space_summary()\n",
    "\n",
    "### END CODE HERE\n",
    "\n",
    "# Code to evaluate, do NOT modify\n",
    "search_space_summary = sys.stdout.getvalue()\n",
    "sys.stdout = stdout\n",
    "LIA_Tutorial_Utils.evaluate_first_tuner(search_space_summary)\n",
    "print(\"\")"
   ]
  },
  {
   "cell_type": "markdown",
   "id": "d23bdc2f",
   "metadata": {},
   "source": [
    "The next step is to proceed with the random search for the best hyperparameters. The tuner will train each model with the training set for a maximum of 5 epochs, and then select the best model based on their accuracy performance on the validation data."
   ]
  },
  {
   "cell_type": "code",
   "execution_count": 12,
   "id": "8053c657",
   "metadata": {},
   "outputs": [
    {
     "name": "stdout",
     "output_type": "stream",
     "text": [
      "Trial 5 Complete [00h 00m 05s]\n",
      "val_accuracy: 0.49983158707618713\n",
      "\n",
      "Best val_accuracy So Far: 0.5101044178009033\n",
      "Total elapsed time: 00h 00m 40s\n"
     ]
    }
   ],
   "source": [
    "initial_tuner.search(x_train, y_train, epochs=5, validation_data=(x_valid, y_valid))"
   ]
  },
  {
   "cell_type": "markdown",
   "id": "06eae870",
   "metadata": {},
   "source": [
    "Now that the search is complete, let's retrieve and save the model with the optimized hyperparameters, and display its values."
   ]
  },
  {
   "cell_type": "code",
   "execution_count": 13,
   "id": "939af0b8",
   "metadata": {},
   "outputs": [
    {
     "name": "stdout",
     "output_type": "stream",
     "text": [
      "{'hidden_layers': 3, 'activations': 'relu', 'learning_rate': 0.006803545685322677, 'units_1': 110, 'units_2': 30, 'units_3': 120, 'units_4': 115, 'batch_size': 256}\n"
     ]
    }
   ],
   "source": [
    "# Get the optimal model\n",
    "initial_best_model = initial_tuner.get_best_models()[0]\n",
    "\n",
    "# Get and print the optimal hyperparameters\n",
    "initial_best_hps=initial_tuner.get_best_hyperparameters(num_trials=1)[0]\n",
    "print(initial_best_hps.values)"
   ]
  },
  {
   "cell_type": "markdown",
   "id": "619d8232",
   "metadata": {},
   "source": [
    "Finally, utilize the evaluate method of the Keras Tuner model class to assess our model's performance with respect to the metrics specified during the compilation of the model."
   ]
  },
  {
   "cell_type": "code",
   "execution_count": 14,
   "id": "e1d27ae3",
   "metadata": {},
   "outputs": [
    {
     "name": "stdout",
     "output_type": "stream",
     "text": [
      "372/372 [==============================] - 1s 902us/step - loss: 1.3470 - accuracy: 0.5101\n"
     ]
    },
    {
     "data": {
      "text/plain": [
       "[1.347047209739685, 0.5101044178009033]"
      ]
     },
     "execution_count": 14,
     "metadata": {},
     "output_type": "execute_result"
    }
   ],
   "source": [
    "# Evaluate model on validation set with loss and accuracy metrics\n",
    "initial_best_model.evaluate(x_valid, y_valid)"
   ]
  },
  {
   "cell_type": "markdown",
   "id": "3ea17cb7",
   "metadata": {},
   "source": [
    "<a name='4'></a>\n",
    "## 4 - Expanded Keras Tuner Features\n",
    "\n",
    "While the fundamental framework we've explored thus far suffices for most typical needs during the hyperparameter tuning process of neural network models, Keras Tuner offers a plethora of advanced functionalities for you to incorporate into your deep learning projects. In this section, we'll delve into a couple of these features, which will enable us for a more systematic approach to constructing our MLP classifier, aligning with established best practices in the field.\n",
    "\n",
    "<a name='4-1'></a>\n",
    "## 4.1 - Use Custom Metrics\n",
    "\n",
    "In addition to optimizing hyperparameters with respect to predefined metrics and losses provided by Keras, you can also incorporate your own customized metric if you find the default metrics insufficient for selecting the best model for your task. [6](#R-6) One approach is to calculate the average of a custom metric evaluated on each mini-batch and use that as the overall metric. Here are the steps to implement this:\n",
    "\n",
    "\n",
    " **1.** Define your customized metric function with signature of the form `name_customized_metric(y_true, y_pred)`,  which takes the vectors `y_true` and `y_pred` as parameters and returns a scalar score.\n",
    "\n",
    " **2.** Include the custom metric function in the list of metrics during the compilation of the model.\n",
    "\n",
    " **3.** Pass a `keras_tuner.Objective`instantiation to the objective argument of the Keras Tuner initializer, with the string `'val_{name_customized_metric}'` for the first parameter, and the optimization direction for the second parameter. The latter should be either one of the \"min\" or \"max\" strings. \n",
    "\n",
    "Here's an example.\n",
    "```python\n",
    "\n",
    "# Define your custom metric function\n",
    "def my_metric_fn(y_true, y_pred):                            \n",
    "    \n",
    "    squared_difference = ops.square(y_true - y_pred)\n",
    "    return ops.mean(squared_difference, axis=-1) \n",
    "\n",
    "\n",
    "class MyMetricHyperModel(kt.HyperModel):\n",
    "    def build(self, hp): \n",
    "        model = keras.Sequential()                   \n",
    "        ...                                                    \n",
    "       \n",
    "        model.compile(optimizer = 'adam',                       \n",
    "                      loss = 'categorical_crossentropy',\n",
    "                      # Include your custom metric in the compilation metrics\n",
    "                      metrics = [my_metric_fn, 'accuracy',...])    \n",
    "      \n",
    "        return model                                           \n",
    "    \n",
    "      ...                                                    \n",
    "    \n",
    "tuner = kt.RandomSearch(\n",
    "MyHyperModel(),\n",
    "# Pass the custom metric with the established format to the tuners' objective\n",
    "objective=kt.Objective(\"val_my_metric_fn\", \"max\"),                    \n",
    "max_trials=5)                                                \n",
    "                                                             \n",
    "```\n",
    "\n",
    "\n",
    "<a name='4-2'></a>\n",
    "## 4.2 - Tailor the Search Space\n",
    "\n",
    "Another notable feature of Keras Tuner is the ability to tune only a subset of hyperparameters while keeping others fixed, without modifying the hypermodel. This capability is invaluable in scenarios with limited computational resources or when prioritizing the search for certain hyperparameters over others.\n",
    "\n",
    "To tailor the search space, start by defining the complete set of hyperparameters within your hypermodel subclass, assigning default values to those you don't intend to tune in every search. Specify default values directly within the hyperparameter definitions. Here's an example:\n",
    "\n",
    "  ```python\n",
    "  hp.Int(\"units\", min_value=32, max_value=128, step=32, default=64)\n",
    "  ```\n",
    "Keras Tuner automatically assigns default values to hyperparameters unless explicitly stated. For integer or float hyperparameters, the default is the minimum value of the specified range. For boolean hyperparameters, the default is False. Below is a complete example of a hypermodel for a 10-class neural network model with all hyperparameters defined:\n",
    "\n",
    "```python\n",
    "  \n",
    "class MyHyperModelExample(kt.HyperModel):                        \n",
    "       def build(self, hp):\n",
    "        \n",
    "           model = keras.Sequential()                             \n",
    "           model.add(\n",
    "               # Add a hyperparameter for the layers' units with default value 64 \n",
    "               layers.Dense(                                 \n",
    "                   units = hp.Int(\"units\", min_value=32, max_value=128, step=32, default=64)\n",
    "               )\n",
    "           )\n",
    "           # Add a boolean hyperparameter for choosing wether to appply dropout regularization\n",
    "           # A boolean Hyperparam comes with False as default value\n",
    "           if hp.Boolean(\"dropout\"):\n",
    "               model.add(layers.Dropout(rate=0.25)) \n",
    "           \n",
    "           model.add(layers.Dense(units=10, activation=\"softmax\"))\n",
    "     \n",
    "           model.compile(\n",
    "               optimizer = keras.optimizers.Adam(\n",
    "                   # Add a hyperparameter for learning rate with default value 1e-2 \n",
    "                   learning_rate = hp.Choice(\"learning_rate\", values=[1e-1, 1e-2, 1e-3, 1e-4], default=1e-2) \n",
    "               ),\n",
    "               loss = keras.losses.SparseCategoricalCrossentropy(),\n",
    "               metrics = [\"accuracy\"],\n",
    "           )\n",
    "       \n",
    "           return model           \n",
    "```\n",
    "  \n",
    "The next step involves specifying the subset of hyperparameters to optimize during tuner initialization. There are two approaches:\n",
    "\n",
    "<a name='4-2-1'></a>\n",
    "### 1. Search a few hyperparameters and fix the rest\n",
    "\n",
    "1. Instantiate a `keras_tuner.HyperParameters()` object, and override only the hyperparameters you want to tune for the current search. \n",
    "\n",
    "2. Pass the Hyperparameter object as an argument for the `hyperparameters` parameter of the tuner. \n",
    "\n",
    "3. Set the `tune_new_entries` parameter of the tuner to False to prevent not overriden parameters from being tuned and force them to take their default values.\n",
    "\n",
    "\n",
    "Below is an example of searching only one hyperparameter for the previous hypermodel:\n",
    "\n",
    "```python\n",
    "\n",
    "# Instantiate a Hyperparameters object and save it as hp            \n",
    "hp = keras_tuner.HyperParameters()                          \n",
    "\n",
    "# This will override the `learning_rate` parameter \n",
    "hp.Float(\"learning_rate\", min_value=1e-4, max_value=1e-2, sampling=\"log\")  \n",
    "\n",
    "tuner = keras_tuner.RandomSearch(\n",
    "    hypermodel = MyHyperModelExample,\n",
    "    # Pass hp as value for the \"hyperparameters\" argument of the tuner    \n",
    "    hyperparameters = hp,\n",
    "    # Set the parameter below to False to prevent parameters not overriden with the hp object from being tuned\n",
    "    tune_new_entries = False,\n",
    "    objective = \"val_accuracy\",\n",
    ")\n",
    "```\n",
    "\n",
    "In the preceding example, the complete set of hyperparameters initially includes \"units,\" \"dropout,\" and \"learning_rate,\" with the latter being a choice hyperparameter type. However, in the defined tuner, only the \"learning_rate\" hyperparameter will be fine-tuned (this time, as a float hyperparameter type), while the \"units\" and \"dropout\" hyperparameters will default to their respective values, which are `64` and `False`.\n",
    "\n",
    "<a name='4-2-2'></a>\n",
    "### 2. Fix a few and tune the rest\n",
    "\n",
    "1. Begin by instantiating a `keras_tuner.HyperParameters()` object. Use it to fix the hyperparameters you won't tune, specifying their values with the fixed method of the hyperparameter. Here's an example:\n",
    "\n",
    "```python  \n",
    "hp.Fixed(\"dropout\", value= False)  \n",
    "```     \n",
    "\n",
    "2. Pass your Hyperparameter object as an argument for the `hyperparameters` parameter of the tuner. \n",
    "\n",
    "\n",
    "3. Specify `tune_new_entries=True`. This setting allows us to tune the rest of the hyperparameters.\n",
    "\n",
    "Here's an example of fixing one hyperparameter and tuning the rest for the previous hypermodel `MyHyperModelExample`:\n",
    "\n",
    "```python     \n",
    "\n",
    "# Instantiate a Hyperparameters object and save it as hp            \n",
    "hp = keras_tuner.HyperParameters()                          \n",
    "\n",
    "# This will override the `learning_rate` parameter and set it to the fixed value 1e-4\n",
    "hp.Fixed(\"learning_rate\", value=1e-4)\n",
    "\n",
    "tuner = keras_tuner.RandomSearch(\n",
    "    hypermodel = build_model,\n",
    "    # Pass hp as value for the \"hyperparameters\" argument of the tuner    \n",
    "    hyperparameters = hp,\n",
    "    # specify tune_new_entries=True to tune the not overriden hyperparameters\n",
    "    tune_new_entries = True,\n",
    "    objective = \"val_accuracy\",\n",
    ")\n",
    "```\n",
    "\n",
    "In this case, the complete set of defined hyperparameters include \"units\", \"dropout\" and \"learning_rate\", as before. However, in the initialized tuner it was specified that all hyperparameters except for the \"learning_rate\" will be tuned (\"units\" and \"dropout\"), while the \"learning rate\" hyperparameter will be left with the fixed value `1e-4`.\n",
    "\n",
    "<a name='ex-3'></a>\n",
    "\n",
    "## Exercise 3 - Prioritized Hyperparameter Tuning with Custom Metric\n",
    "\n",
    "In this exercise, we will prioritize tuning the hyperparameters based on their consistently demonstrated importance in the field. Specifically, we will first focus on optimizing the learning rate and mini-batch size hyperparameters, followed by fine-tuning the remaining hidden layers and units per layer hyperparameters. This time, we won't be tuning the activation function and will use RELU, as it typically yields optimal results. Additionally, we will leverage a custom metric to enhance our model's performance.\n",
    "\n",
    "\n",
    "### 1 -  Implement the Quadratic Weighted Kappa metric \n",
    "\n",
    "While conventional metrics like accuracy, F1-Score, precision, and recall serve well in many classification tasks —such as identifying road signals, hand gestures, or domestic animals from images— they may fall short when handling ordinal response variables. This limitation arises from the fact that they penalize predictions that are significantly far from the true value to the same degree as those that fall very close to it. \n",
    "\n",
    "Because our response variable involves rating life insurance applicants on a scale from 1 to 8, in this assignment, we'll integrate the Quadratic Weighted Kappa (QWK) as a customized metric into the tuning process. This metric considers the ordinal nature of the classification task, measuring the agreement between two ratings. It typically ranges from 0 (indicating random agreement) to 1 (indicating complete agreement), although it can take on negative values if the model performance is worse than a random classifier. Since it is not readily available in Keras, we've provided its function implementation for you."
   ]
  },
  {
   "cell_type": "code",
   "execution_count": 15,
   "id": "c6e315c3",
   "metadata": {},
   "outputs": [],
   "source": [
    "# do NOT modify this code cell\n",
    "\n",
    "# QWK metric for ordinal classification tasks\n",
    "def QuadraticWeightedKappa(y_true, y_pred_probs, N=8):\n",
    "    \n",
    "    \"\"\"\n",
    "    Calculate quadratic weighted kappa metric.\n",
    "\n",
    "    Args:\n",
    "    - y_true: tf.Tensor of true labels (actual risk) \n",
    "    - y_pred_probs: tf.Tensor of predicted probabilities (predicted risk) \n",
    "    - N: number of possible ratings\n",
    "\n",
    "    Returns:\n",
    "    - Quadratic weighted kappa score\n",
    "    \"\"\"\n",
    "\n",
    "    # Convert probabilities to class predictions        \n",
    "    y_pred = tf.argmax(y_pred_probs, axis=1)\n",
    "    \n",
    "    # Calculate the histogram matrix O\n",
    "    O = tf.math.confusion_matrix(y_true, y_pred, num_classes=N)\n",
    "    \n",
    "    # Calculate the weights matrix w\n",
    "    i, j = tf.meshgrid(tf.range(N), tf.range(N), indexing='ij')\n",
    "    w = tf.cast((i - j) ** 2, tf.float32) / tf.cast((N - 1) ** 2, tf.float32)\n",
    "\n",
    "    # Calculate the histogram matrix of expected ratings E\n",
    "    hist_true = tf.math.bincount(tf.cast(y_true, tf.int32), minlength=N)\n",
    "    hist_pred = tf.math.bincount(tf.cast(y_pred, tf.int32), minlength=N)\n",
    "    E = tf.linalg.matmul(tf.expand_dims(hist_true, axis=-1), tf.expand_dims(hist_pred, axis=0))\n",
    "    E = tf.cast(E, tf.float32)  # Cast E to float32\n",
    "    E *= tf.cast(tf.reduce_sum(O),tf.float32)/ tf.reduce_sum(E) \n",
    "    \n",
    "    # Calculate quadratic weighted kappa\n",
    "    numerator = tf.reduce_sum(w * tf.cast(O, tf.float32))\n",
    "    denominator = tf.reduce_sum(w * E)\n",
    "    kappa = 1 - (numerator / denominator)\n",
    "\n",
    "    return kappa"
   ]
  },
  {
   "cell_type": "markdown",
   "id": "9cad79e6",
   "metadata": {},
   "source": [
    "### 2 - Build the model and define all hyperparameters,\n",
    "\n",
    "For this exercise, we'll define the same model as before, but this time we'll add default values for the hyperparameters:\n",
    "\n",
    "- For the number of **hidden layers**, set the default value to **1**.\n",
    "- For the number of **units** in each layer, set the default value to **21**.\n",
    "- Set the default value of the **learning rate** to **1e-2**.\n",
    "- For the **mini-batch** size, set the default value to **32**.\n",
    "\n",
    "You will also have to include our Quadratic Weighted Kappa custom metric in the model compilation metrics, just like in the example in [4.1 - Use Custom Metrics](#4-1). Notice that the metric Keras Tuner is calculating is the mean of our custom metric evaluated on each mini-batch, which is not the same as evaluating the custom metric on the whole set at the same time."
   ]
  },
  {
   "cell_type": "code",
   "execution_count": 16,
   "id": "20c8711f",
   "metadata": {},
   "outputs": [],
   "source": [
    "## You may COPY AND PASTE the hyperpam definitions of the first exercise, and then add the default argument values\n",
    "\n",
    "class MyHyperModel(kt.HyperModel):\n",
    "    def build(self, hp):\n",
    "        \n",
    "        model = keras.Sequential()\n",
    "        \n",
    "        ## START CODE HERE\n",
    "                \n",
    "        # Define hidden layers and learning rate hyperparams with the indicated default values (≈2 lines)\n",
    "        # hp_layers = hp.Int(..., default= ...)\n",
    "        # hp_learning_rate = ...\n",
    "        \n",
    "        hp_layers = hp.Int('hidden_layers', 1, 5, default=1)                \n",
    "        hp_learning_rate = hp.Float(\"learning_rate\", min_value=1e-4, max_value=1e-2, sampling=\"log\", default=1e-2)\n",
    "          \n",
    "        ## END CODE HERE\n",
    "\n",
    "        # Add hidden layers dynamically based on the hyperparameter\n",
    "        for i in range(1,1+hp_layers):\n",
    "            \n",
    "             model.add(\n",
    "                 keras.layers.Dense(\n",
    "                     \n",
    "                     ## START CODE HERE\n",
    "                     \n",
    "                     # Define the number of units in the ith layer hyperparam with the indicated default value (≈1 line)\n",
    "                     # units=hp.Int('units_'+str(i)=..., default= ...),   \n",
    "                     \n",
    "                     units = hp.Int('units_'+str(i), min_value=15, max_value=120, step=5, default=21),\n",
    "                    \n",
    "                     ## END CODE HERE\n",
    "                     \n",
    "                     activation='relu',                     \n",
    "                 )\n",
    "             )\n",
    "        \n",
    "        # Add output layer of the 8-class classifier network\n",
    "        model.add(keras.layers.Dense(8, activation='softmax'))\n",
    "     \n",
    "        model.compile(optimizer = keras.optimizers.Adam(learning_rate=hp_learning_rate),\n",
    "                      loss = keras.losses.SparseCategoricalCrossentropy(),\n",
    "                      ## START CODE HERE\n",
    "                      \n",
    "                      # Include 'accuracy' and QuadraticWeightedKappa as metrics (≈1 line)\n",
    "                      metrics = ['accuracy', QuadraticWeightedKappa],  \n",
    "    \n",
    "                      ## END CODE HERE\n",
    "                      )\n",
    "\n",
    "        return model\n",
    "    \n",
    "    \n",
    "    def fit(self, hp, model, *args, **kwargs):\n",
    "            return model.fit(\n",
    "                *args,\n",
    "                \n",
    "                ## START CODE HERE\n",
    "                \n",
    "                # Set the batch_size to a hyperparam with the indicated default value (≈1 line)                \n",
    "                batch_size = hp.Choice(\"batch_size\", [16, 32, 64, 128, 256, 512], default=32),\n",
    "                \n",
    "                ## END CODE HERE\n",
    "                \n",
    "                **kwargs,\n",
    "            )\n",
    "               "
   ]
  },
  {
   "cell_type": "markdown",
   "id": "4968350b",
   "metadata": {},
   "source": [
    "### 3 - Instantiate hyperparameters class and initialize tuner.\n",
    "\n",
    "Now, let's define your tuner by following these steps:\n",
    "\n",
    "1. Instantiate a `keras_tuner.HyperParameters()` object and save it's value in the `hp` variable. \n",
    "2. Re-define the two most typically relevant hyperparameters for these type of models: the learning rate and the mini-batch size. Use the `hp` object to re-define them in the same way you did when building the model (you can simply copy and paste this definition).\n",
    "3. Call the tuner and pass the appropriate arguments for the `hyperparameters` and `tune_new_entries` parameters. You can refer to the example in the [4.2 - Tailoring the Search Space](#4-2) section.\n",
    "4. Set the `objective` metric to be the Quadratic Weighted Kappa function defined previously and ensure it to be evaluated on the validation set. The optimization direction should be maximization. For this step, you may refer to the example in the [4.1 - Using Custom Metrics](#4-1) section."
   ]
  },
  {
   "cell_type": "code",
   "execution_count": 17,
   "id": "3942a8cf",
   "metadata": {},
   "outputs": [],
   "source": [
    "# You may COPY AND PASTE the hyperpam definitions of the previous code cell\n",
    "# You do NOT need to include the default values for the re-definitions, but they won't affect the tuning either way\n",
    "\n",
    "## START CODE HERE\n",
    "\n",
    "# Instantiate a kt.HyperParameters object and save it in the hp variable (≈1 line)\n",
    "\n",
    "hp = kt.HyperParameters()\n",
    "\n",
    "# Override ONLY the learning rate and the mini-batch size hyperparameters (≈2 line)\n",
    "# hp.Float(...)\n",
    "# hp.Choice(...)\n",
    "\n",
    "hp.Float(\"learning_rate\", min_value=1e-4, max_value=1e-2, sampling=\"log\")\n",
    "hp.Choice(\"batch_size\", [16, 32, 64, 128, 256, 512])\n",
    "\n",
    "## END CODE HERE\n",
    "\n",
    "tuner = kt.RandomSearch(\n",
    "hypermodel = MyHyperModel(),\n",
    "    \n",
    "## START CODE HERE\n",
    "\n",
    "# Specify the required arguments for the tuner (≈3 lines)\n",
    "# hyperparameters =...,    \n",
    "# tune_new_entries =...,    \n",
    "# objective =...,    \n",
    "    \n",
    "hyperparameters = hp,\n",
    "tune_new_entries = False,\n",
    "objective = kt.Objective(\"val_QuadraticWeightedKappa\", \"max\"),\n",
    "\n",
    "## END CODE HERE\n",
    "    \n",
    "seed = 5,\n",
    "max_trials = 5,\n",
    "overwrite=True,    \n",
    ")"
   ]
  },
  {
   "cell_type": "markdown",
   "id": "94a035e4",
   "metadata": {},
   "source": [
    "### 4 - Tune important hyperparameters.\n",
    "\n",
    "Execute the following code cells to proceed with the hyperparameter optimization process. You won't have to modify any of the code of these cells.\n",
    "\n",
    "First, we call the `search_space_summary` method to confirm that the only hyperparameters to be searched are the ones you re-defined in the previous step."
   ]
  },
  {
   "cell_type": "code",
   "execution_count": 18,
   "id": "ceea2149",
   "metadata": {},
   "outputs": [
    {
     "name": "stdout",
     "output_type": "stream",
     "text": [
      "\u001b[92mSearch space summary\n",
      "Default search space size: 2\n",
      "learning_rate (Float)\n",
      "{'default': 0.0001, 'conditions': [], 'min_value': 0.0001, 'max_value': 0.01, 'step': None, 'sampling': 'log'}\n",
      "batch_size (Choice)\n",
      "{'default': 16, 'conditions': [], 'values': [16, 32, 64, 128, 256, 512], 'ordered': True}\n",
      "\n",
      "Search space matches expected.\n",
      "\n"
     ]
    }
   ],
   "source": [
    "# Code to evaluate, do NOT modify\n",
    "stdout = sys.stdout\n",
    "sys.stdout = io.StringIO()\n",
    "\n",
    "### START CODE HERE\n",
    "\n",
    "# Display the hyperparameters to be tuned\n",
    "tuner.search_space_summary()\n",
    "\n",
    "\n",
    "### END CODE HERE\n",
    "\n",
    "# Code to evaluate, do NOT modify\n",
    "search_space_summary = sys.stdout.getvalue()\n",
    "sys.stdout = stdout\n",
    "LIA_Tutorial_Utils.evaluate_final_tuner_1(search_space_summary)\n",
    "print()"
   ]
  },
  {
   "cell_type": "markdown",
   "id": "7681a137",
   "metadata": {},
   "source": [
    "Now, let's conduct the search for the optimized hyperparameters to obtain the best model and display its hyperparameter values."
   ]
  },
  {
   "cell_type": "code",
   "execution_count": 19,
   "id": "3739e2cb",
   "metadata": {},
   "outputs": [
    {
     "name": "stdout",
     "output_type": "stream",
     "text": [
      "Trial 5 Complete [00h 00m 14s]\n",
      "val_QuadraticWeightedKappa: 0.4336071014404297\n",
      "\n",
      "Best val_QuadraticWeightedKappa So Far: 0.463312566280365\n",
      "Total elapsed time: 00h 00m 31s\n"
     ]
    }
   ],
   "source": [
    "# Search for the best hyperparameters\n",
    "tuner.search(x_train, y_train, epochs=5, validation_data=(x_valid, y_valid))"
   ]
  },
  {
   "cell_type": "code",
   "execution_count": 20,
   "id": "c97db044",
   "metadata": {},
   "outputs": [
    {
     "name": "stdout",
     "output_type": "stream",
     "text": [
      "{'learning_rate': 0.0008030805486457598, 'batch_size': 64, 'hidden_layers': 1, 'units_1': 21}\n"
     ]
    }
   ],
   "source": [
    "# Get the optimal model\n",
    "best_model = tuner.get_best_models()[0]\n",
    "\n",
    "# Get and print the optimal hyperparameters\n",
    "best_model_hps=tuner.get_best_hyperparameters(num_trials=1)[0]\n",
    "print(best_model_hps.values)"
   ]
  },
  {
   "cell_type": "markdown",
   "id": "78c5d503",
   "metadata": {},
   "source": [
    "Evaluate the model's performance on the validation dataset with respect to the metrics specified during the compilation of the model. "
   ]
  },
  {
   "cell_type": "code",
   "execution_count": 21,
   "id": "60400d35",
   "metadata": {},
   "outputs": [
    {
     "name": "stdout",
     "output_type": "stream",
     "text": [
      "372/372 [==============================] - 1s 822us/step - loss: 1.4395 - accuracy: 0.4693 - QuadraticWeightedKappa: 0.4580\n"
     ]
    },
    {
     "data": {
      "text/plain": [
       "[1.4395194053649902, 0.4693499505519867, 0.45803987979888916]"
      ]
     },
     "execution_count": 21,
     "metadata": {},
     "output_type": "execute_result"
    }
   ],
   "source": [
    "# Evaluate model on validation set with the loss, accuracy and mean of the QWK on each mini-batch metrics\n",
    "best_model.evaluate(x_valid, y_valid)"
   ]
  },
  {
   "cell_type": "markdown",
   "id": "79b2d516",
   "metadata": {},
   "source": [
    "### 5. Tune remaining hyperparameters\n",
    "\n",
    "To tune the remaining hyperparameters while leaving the already tuned ones fixed with their optimized values, follow these steps:\n",
    "\n",
    "1. Retrieve the optimized values of the learning rate and mini-batch size hyperparameters from the previous search.\n",
    "2. Instantiate a new Hyperparameters object and save its value in the `hp_last` variable.\n",
    "3. Override the `'learning_rate'` and `'batch_size'` hyperparameters by calling the Fixed method of the `hp_last` object and passing the optimal retrieved values as arguments.\n",
    "4. Call the tuner and pass the appropriate arguments for the `hyperparameters` and `tune_new_entries` parameters.\n",
    "\n",
    "You can refer to the example in the [4.2.2 - Tailoring the Search Space](#4-2-2) section to complete this exercise."
   ]
  },
  {
   "cell_type": "code",
   "execution_count": 22,
   "id": "86c241de",
   "metadata": {},
   "outputs": [],
   "source": [
    "# Retrieve the optimal learning rate and mini-batch size to set as default values in the next cell\n",
    "best_learning_rate = best_model_hps.values['learning_rate']\n",
    "best_batch_size = best_model_hps.values['batch_size']"
   ]
  },
  {
   "cell_type": "code",
   "execution_count": 23,
   "id": "e066a7c4",
   "metadata": {},
   "outputs": [],
   "source": [
    "## START CODE HERE\n",
    "\n",
    "# Instantiate a kt.HyperParameters object and save it in the hp_last variable (≈1 line)\n",
    "hp_last = kt.HyperParameters()\n",
    "\n",
    "# Override the learning_rate and batch_size as fixed hyperpams (≈2 lines)\n",
    "# hp_last.Fixed('learning_rate', value = best_...)\n",
    "# hp_last...\n",
    "\n",
    "hp_last.Fixed('learning_rate', value = best_learning_rate)\n",
    "hp_last.Fixed('batch_size', value = best_batch_size)\n",
    "\n",
    "## END CODE HERE\n",
    "\n",
    "\n",
    "# Initialize final tuner    \n",
    "final_tuner = kt.RandomSearch(\n",
    "MyHyperModel(),\n",
    "    \n",
    "## START CODE HERE\n",
    "\n",
    "# Specify the required arguments for the tuner (≈2 lines)\n",
    "\n",
    "hyperparameters = hp_last,\n",
    "tune_new_entries = True,\n",
    "\n",
    "## END CODE HERE\n",
    "    \n",
    "objective = kt.Objective(\"val_QuadraticWeightedKappa\", \"max\"),\n",
    "max_trials = 5,\n",
    "seed = 5,\n",
    "overwrite = True,\n",
    ")"
   ]
  },
  {
   "cell_type": "markdown",
   "id": "aad1bd15",
   "metadata": {},
   "source": [
    "### 7 - Search for Remaining Hyperparameters.\n",
    "\n",
    "Execute the following cells code to proceed with the hyperparameter optimization process. You won't have to modify any of the code of these cells.\n",
    "\n",
    "\n",
    "Call the search space summary method of the tuner to confirm that the only hyperparameters to be searched are the ones you re-defined in the previous step. Then search for these hyperparameters, get the best model and the optimal hyperparameters values, and evaluate your model on the validation dataset."
   ]
  },
  {
   "cell_type": "code",
   "execution_count": 24,
   "id": "f9db13b3",
   "metadata": {},
   "outputs": [
    {
     "name": "stdout",
     "output_type": "stream",
     "text": [
      "\u001b[92mSearch space summary\n",
      "Default search space size: 4\n",
      "learning_rate (Fixed)\n",
      "{'conditions': [], 'value': 0.0008030805486457598}\n",
      "batch_size (Fixed)\n",
      "{'conditions': [], 'value': 64}\n",
      "hidden_layers (Int)\n",
      "{'default': 1, 'conditions': [], 'min_value': 1, 'max_value': 5, 'step': 1, 'sampling': 'linear'}\n",
      "units_1 (Int)\n",
      "{'default': 21, 'conditions': [], 'min_value': 15, 'max_value': 120, 'step': 5, 'sampling': 'linear'}\n",
      "\n",
      "Search space matches expected.\n"
     ]
    }
   ],
   "source": [
    "# Code to evaluate, do NOT modify\n",
    "stdout = sys.stdout\n",
    "sys.stdout = io.StringIO()\n",
    "\n",
    "### START CODE HERE\n",
    "\n",
    "# Display the hyperparameters to be tuned\n",
    "final_tuner.search_space_summary()\n",
    "\n",
    "### END CODE HERE\n",
    "\n",
    "# Code to evaluate, do NOT modify\n",
    "search_space_summary = sys.stdout.getvalue()\n",
    "sys.stdout = stdout\n",
    "LIA_Tutorial_Utils.evaluate_final_tuner_2(search_space_summary, best_learning_rate, best_batch_size)"
   ]
  },
  {
   "cell_type": "code",
   "execution_count": 25,
   "id": "e11c93bc",
   "metadata": {},
   "outputs": [
    {
     "name": "stdout",
     "output_type": "stream",
     "text": [
      "Trial 5 Complete [00h 00m 05s]\n",
      "val_QuadraticWeightedKappa: 0.4800450801849365\n",
      "\n",
      "Best val_QuadraticWeightedKappa So Far: 0.5104021430015564\n",
      "Total elapsed time: 00h 00m 25s\n"
     ]
    }
   ],
   "source": [
    "# Search for the best hyperparameters\n",
    "final_tuner.search(x_train, y_train, epochs=5, validation_data=(x_valid, y_valid))"
   ]
  },
  {
   "cell_type": "code",
   "execution_count": 26,
   "id": "c8623999",
   "metadata": {},
   "outputs": [
    {
     "name": "stdout",
     "output_type": "stream",
     "text": [
      "{'learning_rate': 0.0008030805486457598, 'batch_size': 64, 'hidden_layers': 5, 'units_1': 115, 'units_2': 90, 'units_3': 55, 'units_4': 21, 'units_5': 21}\n"
     ]
    }
   ],
   "source": [
    "# Get the optimal model\n",
    "final_best_model = final_tuner.get_best_models()[0]\n",
    "\n",
    "# Get and display the optimal hyperparameters\n",
    "final_best_hps = final_tuner.get_best_hyperparameters(num_trials=1)[0]\n",
    "print(final_best_hps.values)"
   ]
  },
  {
   "cell_type": "code",
   "execution_count": 27,
   "id": "9bd69f34",
   "metadata": {},
   "outputs": [
    {
     "name": "stdout",
     "output_type": "stream",
     "text": [
      "372/372 [==============================] - 1s 990us/step - loss: 1.3878 - accuracy: 0.4947 - QuadraticWeightedKappa: 0.5051\n",
      " [Validation loss, Validation accuracy, Validation quadratic weighted kappa]:\n",
      " [1.3878202438354492, 0.49469518661499023, 0.50510573387146]\n"
     ]
    }
   ],
   "source": [
    "# Evaluate model on validation set with the loss, accuracy and mean of the QWK on each mini-batch metrics\n",
    "print(\" [Validation loss, Validation accuracy, Validation quadratic weighted kappa]:\\n\",\n",
    "      final_best_model.evaluate(x_valid, y_valid))\n"
   ]
  },
  {
   "cell_type": "markdown",
   "id": "14318e62",
   "metadata": {},
   "source": [
    "<a name='5'></a>\n",
    "## 5 - Fit and Evaluate Perfomance of Tuned Model\n",
    "\n",
    "Now that we've obtained our best model with the optimal hyperparameters, in this section, we'll proceed to fit the model to the training set, predict the labels of the testing set, and finally assess the model's performance on the testing set.\n",
    "\n",
    "<a name='ex-4'></a>\n",
    "## Exercise 4 - Fit and Predict with Tuned Model\n",
    "\n",
    "Take the optimal model obtained in the last exercise, saved in the `final_best_model` variable, and call the `fit` method. Pass as arguments the features and labels of the training set `x_train`, and set the number of epochs to 5."
   ]
  },
  {
   "cell_type": "code",
   "execution_count": 28,
   "id": "5758d4dc",
   "metadata": {},
   "outputs": [
    {
     "name": "stdout",
     "output_type": "stream",
     "text": [
      "Epoch 1/5\n",
      "1114/1114 [==============================] - 2s 1ms/step - loss: 1.3788 - accuracy: 0.4924 - QuadraticWeightedKappa: 0.4667\n",
      "Epoch 2/5\n",
      "1114/1114 [==============================] - 1s 1ms/step - loss: 1.3569 - accuracy: 0.5045 - QuadraticWeightedKappa: 0.4719\n",
      "Epoch 3/5\n",
      "1114/1114 [==============================] - 1s 1ms/step - loss: 1.3410 - accuracy: 0.5082 - QuadraticWeightedKappa: 0.4780\n",
      "Epoch 4/5\n",
      "1114/1114 [==============================] - 1s 1ms/step - loss: 1.3327 - accuracy: 0.5140 - QuadraticWeightedKappa: 0.4842\n",
      "Epoch 5/5\n",
      "1114/1114 [==============================] - 1s 1ms/step - loss: 1.3226 - accuracy: 0.5147 - QuadraticWeightedKappa: 0.4800\n"
     ]
    },
    {
     "data": {
      "text/plain": [
       "<keras.src.callbacks.History at 0x13186892210>"
      ]
     },
     "execution_count": 28,
     "metadata": {},
     "output_type": "execute_result"
    }
   ],
   "source": [
    "## START CODE HERE\n",
    "\n",
    "# Fit the model to the training set - only three arguments require specification for model.fit() here (≈1 line)\n",
    "final_best_model.fit(x=x_train, y=y_train, epochs=5)\n",
    "\n",
    "## END CODE HERE"
   ]
  },
  {
   "cell_type": "markdown",
   "id": "1d6b528e",
   "metadata": {},
   "source": [
    "Now that we've trained our optimal model, we can proceed to generate predictions on the test dataset."
   ]
  },
  {
   "cell_type": "code",
   "execution_count": 29,
   "id": "4a194d9d",
   "metadata": {},
   "outputs": [
    {
     "name": "stdout",
     "output_type": "stream",
     "text": [
      "372/372 [==============================] - 0s 765us/step\n"
     ]
    }
   ],
   "source": [
    "# Use the best performing model to generate predictions (as probability estimates) on the test dataset.\n",
    "Test_PredProbs = final_best_model.predict(x_test)\n",
    "\n",
    "# Convert the probability estimates into label-encoded predictions, then convert back to the original set of classes.\n",
    "Test_Preds = np.argmax(Test_PredProbs, axis=1)"
   ]
  },
  {
   "cell_type": "markdown",
   "id": "7c108c0d",
   "metadata": {},
   "source": [
    "<a name='5-1'></a>\n",
    "## 5.1 - Evaluating Tuned Model Perfomance\n",
    "\n",
    "In this final section, we'll employ functions from both scikit-learn and scikit-plot libraries to visualize and evaluate the performance of our tuned model on the testing set. It's worth noting that, as mentioned earlier, all the following metrics except for the Quadratic Weighted Kappa (QWK) categorize predictions in a 'one-vs-rest' fashion, and therefore, they may not accurately reflect the difficulty level in correctly classifying each applicant with the exact rating they were given. Execute the next code cells to display the reports.\n",
    "\n",
    "### Classification Reports (Loss/QuadraticWeightedKappa/Accuracy)¶"
   ]
  },
  {
   "cell_type": "code",
   "execution_count": 30,
   "id": "04aac7ea",
   "metadata": {},
   "outputs": [
    {
     "name": "stdout",
     "output_type": "stream",
     "text": [
      "372/372 [==============================] - 0s 918us/step - loss: 1.3463 - accuracy: 0.5062 - QuadraticWeightedKappa: 0.4918\n",
      " [Validation loss, Validation accuracy, Validation QWK Average]:\n",
      " [1.3462698459625244, 0.5061884522438049, 0.49176058173179626]\n"
     ]
    }
   ],
   "source": [
    "# Evaluate model on testing set with the loss, accuracy and mean of the QWK on each mini-batch metrics\n",
    "print(\" [Validation loss, Validation accuracy, Validation QWK Average]:\\n\",\n",
    "      final_best_model.evaluate(x_test, y_test))"
   ]
  },
  {
   "cell_type": "markdown",
   "id": "b6e1f4b7",
   "metadata": {},
   "source": [
    "We can also evaluate our model's performance using the Quadratic Weighted Kappa metric over the entire dataset instead of as an average of its values on each mini-batch, as we just did.\n"
   ]
  },
  {
   "cell_type": "code",
   "execution_count": 31,
   "id": "15e38dc3",
   "metadata": {},
   "outputs": [
    {
     "name": "stdout",
     "output_type": "stream",
     "text": [
      "Quadratic Weighted Kappa (QWK)\n",
      "0.49933225 \n",
      "\n"
     ]
    }
   ],
   "source": [
    "# Evaluate model with the QWK metrics\n",
    "print(\"Quadratic Weighted Kappa (QWK)\")\n",
    "print(QuadraticWeightedKappa(y_test, Test_PredProbs).numpy(),\"\\n\")"
   ]
  },
  {
   "cell_type": "markdown",
   "id": "8270c45a",
   "metadata": {},
   "source": [
    "Now, before we display the next reports, we'll first need to convert the encoded labels back to the original 1 to 8 range."
   ]
  },
  {
   "cell_type": "code",
   "execution_count": 32,
   "id": "94165f40",
   "metadata": {},
   "outputs": [],
   "source": [
    "# Convert back to the original set of classes.\n",
    "Test_Preds = le.inverse_transform(Test_Preds)\n",
    "y_test = le.inverse_transform(y_test)"
   ]
  },
  {
   "cell_type": "markdown",
   "id": "03cbc1e4",
   "metadata": {},
   "source": [
    "### Classification Reports (Precisions/Recalls/F1-Scores)"
   ]
  },
  {
   "cell_type": "code",
   "execution_count": 33,
   "id": "68c9a49d",
   "metadata": {},
   "outputs": [
    {
     "name": "stdout",
     "output_type": "stream",
     "text": [
      "              precision    recall  f1-score   support\n",
      "\n",
      "           1       0.36      0.22      0.27      1241\n",
      "           2       0.41      0.26      0.32      1310\n",
      "           3       0.23      0.12      0.16       203\n",
      "           4       0.27      0.26      0.26       286\n",
      "           5       0.43      0.52      0.47      1086\n",
      "           6       0.41      0.40      0.41      2247\n",
      "           7       0.42      0.33      0.37      1606\n",
      "           8       0.65      0.85      0.73      3898\n",
      "\n",
      "    accuracy                           0.51     11877\n",
      "   macro avg       0.40      0.37      0.37     11877\n",
      "weighted avg       0.48      0.51      0.48     11877\n",
      "\n"
     ]
    }
   ],
   "source": [
    "print(classification_report(y_test, Test_Preds))"
   ]
  },
  {
   "cell_type": "markdown",
   "id": "7d55bf5a",
   "metadata": {},
   "source": [
    "### Confusion Matrix"
   ]
  },
  {
   "cell_type": "code",
   "execution_count": 34,
   "id": "ede9a435",
   "metadata": {
    "scrolled": true
   },
   "outputs": [
    {
     "data": {
      "text/plain": [
       "<Axes: title={'center': 'Confusion Matrix'}, xlabel='Predicted label', ylabel='True label'>"
      ]
     },
     "execution_count": 34,
     "metadata": {},
     "output_type": "execute_result"
    },
    {
     "data": {
      "image/png": "[encoded data removed]",
      "text/plain": [
       "<Figure size 640x480 with 2 Axes>"
      ]
     },
     "metadata": {},
     "output_type": "display_data"
    }
   ],
   "source": [
    "plot_confusion_matrix(y_test, Test_Preds)"
   ]
  },
  {
   "cell_type": "markdown",
   "id": "0fe352fe",
   "metadata": {},
   "source": [
    "### ROC Curve\n",
    "The plot below displays the ROC curves for our model. This curve is a graph of the true positive rate versus the false positive rate for each class.\n"
   ]
  },
  {
   "cell_type": "code",
   "execution_count": 35,
   "id": "aaff975e",
   "metadata": {},
   "outputs": [
    {
     "data": {
      "text/plain": [
       "<Axes: title={'center': 'ROC Curves'}, xlabel='False Positive Rate', ylabel='True Positive Rate'>"
      ]
     },
     "execution_count": 35,
     "metadata": {},
     "output_type": "execute_result"
    },
    {
     "data": {
      "image/png": "[encoded data removed]",
      "text/plain": [
       "<Figure size 640x480 with 1 Axes>"
      ]
     },
     "metadata": {},
     "output_type": "display_data"
    }
   ],
   "source": [
    "# Display ROC Curves\n",
    "plot_roc(y_test, Test_PredProbs)"
   ]
  },
  {
   "cell_type": "markdown",
   "id": "819a5f8d",
   "metadata": {},
   "source": [
    "It's evident from the wide range of AUC (Area under the ROC Curve) values against each class that the model exhibits varying degrees of sensitivity and specificity across the dataset. This variability can be attributed to the data imbalance present, as highlighted by the histogram of labels displayed earlier. The differences in accuracy for each class, as depicted by the confusion matrix, further underscore the impact of this data imbalance.\n",
    "\n",
    "While you may initially perceive the model performance as subpar, it's crucial to contextualize it against the baseline established by the best machine learning and statistical learning models submitted to the original Kaggle Competition for this dataset. [1](#R-1) [10](#R-10) When considering this context, our model's performance is satisfactory when allowing it to run for at least 200 epochs during fitting.\n",
    "\n",
    "Moving forward, there are numerous additional features within Keras Tuner that warrant exploration and integration into your future deep learning projects. Nevertheless, you've now laid a solid foundation, encompassing the requisite structure, methodologies, and implementations for tackling risk rating-related actuarial or financial classification tasks! "
   ]
  },
  {
   "cell_type": "markdown",
   "id": "392606c1",
   "metadata": {},
   "source": [
    "<a name='6'></a>  \n",
    "## 6 - Bibliography\n",
    "\n",
    "<a name='R-1'></a>  \n",
    "1. Kaggle. (n.d.). Prudential Life Insurance Assessment: Evaluation. Retrieved from https://www.kaggle.com/competitions/prudential-life-insurance-assessment/overview/evaluation.\n",
    "<a name='R-2'></a>  \n",
    "2. Keras Tuner documentation for tuners. (n.d.). Retrieved from https://keras.io/api/keras_tuner/tuners/.\n",
    "<a name='R-3'></a>  \n",
    "3. Keras API documentation for metrics. (n.d.). Retrieved from https://keras.io/api/metrics/.\n",
    "<a name='R-4'></a>  \n",
    "4. Keras API documentation for losses. (n.d.). Retrieved from https://keras.io/api/losses/.\n",
    "<a name='R-5'></a>  \n",
    "5. Keras Tuner documentation for objective. (n.d.). Retrieved from https://keras.io/api/keras_tuner/tuners/objective/.\n",
    "<a name='R-6'></a>  \n",
    "6. Keras: Creating custom metrics. (n.d.). Retrieved from https://keras.io/api/metrics/#creating-custom-metrics.\n",
    "<a name='R-7'></a>  \n",
    "7. Keras. (2021, October 27). Tailoring the search space. Retrieved from https://keras.io/guides/keras_tuner/tailor_the_search_space/.\n",
    "<a name='R-8'></a>  \n",
    "8. Keras API documentation for Activations. Retrieved from https://keras.io/api/layers/activations/.\n",
    "<a name='R-9'></a>  \n",
    "9. Keras API documentation for Hyperparameters. Retrieved from https://keras.io/api/keras_tuner/hyperparameters/.\n",
    "<a name='R-10'></a>  \n",
    "10. Kaggle. (n.d.). Machine Learning for Risk Classification. Retrieved from https://www.kaggle.com/code/karansarpal/machine-learning-for-risk-classification-ks.\n"
   ]
  }
 ],
 "metadata": {
  "kernelspec": {
   "display_name": "Python 3 (ipykernel)",
   "language": "python",
   "name": "python3"
  },
  "language_info": {
   "codemirror_mode": {
    "name": "ipython",
    "version": 3
   },
   "file_extension": ".py",
   "mimetype": "text/x-python",
   "name": "python",
   "nbconvert_exporter": "python",
   "pygments_lexer": "ipython3",
   "version": "3.11.5"
  }
 },
 "nbformat": 4,
 "nbformat_minor": 5
}
